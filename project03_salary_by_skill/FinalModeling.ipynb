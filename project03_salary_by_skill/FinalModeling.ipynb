{
 "cells": [
  {
   "cell_type": "code",
   "execution_count": 1,
   "id": "3b0293b8",
   "metadata": {},
   "outputs": [],
   "source": [
    "import pandas as pd"
   ]
  },
  {
   "cell_type": "code",
   "execution_count": 2,
   "id": "c68ac2af",
   "metadata": {},
   "outputs": [],
   "source": [
    "import numpy as np\n",
    "import pandas as pd\n",
    "\n",
    "from sklearn.preprocessing import OneHotEncoder, PolynomialFeatures\n",
    "from sklearn.model_selection import train_test_split, ParameterGrid\n",
    "from sklearn.linear_model import LinearRegression, ElasticNet, Lasso\n",
    "from sklearn.pipeline import make_pipeline, Pipeline\n",
    "from sklearn.impute import SimpleImputer\n",
    "#from sklearn_pandas import DataFrameMapper\n",
    "from sklearn.metrics import mean_squared_error, mean_absolute_percentage_error, r2_score\n",
    "from sklearn.compose import ColumnTransformer\n",
    "\n",
    "import warnings\n",
    "warnings.filterwarnings('ignore')"
   ]
  },
  {
   "cell_type": "code",
   "execution_count": 4,
   "id": "ef772c0e",
   "metadata": {},
   "outputs": [],
   "source": [
    "modelling_df = pd.read_csv('./FINAL_PREPROCESSED_SKILLS_CLEANED.csv')"
   ]
  },
  {
   "cell_type": "code",
   "execution_count": 5,
   "id": "7c64d0bd",
   "metadata": {},
   "outputs": [],
   "source": [
    "import joblib"
   ]
  },
  {
   "cell_type": "code",
   "execution_count": 6,
   "id": "52fc4db5",
   "metadata": {},
   "outputs": [],
   "source": [
    "model = joblib.load('cb_best.pkl')"
   ]
  },
  {
   "cell_type": "code",
   "execution_count": 42,
   "id": "46337766",
   "metadata": {},
   "outputs": [],
   "source": [
    "preprocessor = joblib.load('preprocessor.pkl')"
   ]
  },
  {
   "cell_type": "code",
   "execution_count": 8,
   "id": "02749c97",
   "metadata": {},
   "outputs": [
    {
     "data": {
      "text/html": [
       "<div>\n",
       "<style scoped>\n",
       "    .dataframe tbody tr th:only-of-type {\n",
       "        vertical-align: middle;\n",
       "    }\n",
       "\n",
       "    .dataframe tbody tr th {\n",
       "        vertical-align: top;\n",
       "    }\n",
       "\n",
       "    .dataframe thead th {\n",
       "        text-align: right;\n",
       "    }\n",
       "</style>\n",
       "<table border=\"1\" class=\"dataframe\">\n",
       "  <thead>\n",
       "    <tr style=\"text-align: right;\">\n",
       "      <th></th>\n",
       "      <th>url</th>\n",
       "      <th>title</th>\n",
       "      <th>location</th>\n",
       "      <th>type</th>\n",
       "      <th>level</th>\n",
       "      <th>salaryRange</th>\n",
       "      <th>company</th>\n",
       "      <th>minSalary</th>\n",
       "      <th>maxSalary</th>\n",
       "      <th>currency</th>\n",
       "      <th>...</th>\n",
       "      <th>XGBoost</th>\n",
       "      <th>XML</th>\n",
       "      <th>ggplot2</th>\n",
       "      <th>spaCy</th>\n",
       "      <th>lang</th>\n",
       "      <th>titleLang</th>\n",
       "      <th>details</th>\n",
       "      <th>finalJobDescription</th>\n",
       "      <th>scope</th>\n",
       "      <th>hasSalary</th>\n",
       "    </tr>\n",
       "  </thead>\n",
       "  <tbody>\n",
       "    <tr>\n",
       "      <th>0</th>\n",
       "      <td>https://ai-jobs.net/job/32218-data-science-con...</td>\n",
       "      <td>Data Science Content Intern (Remote)</td>\n",
       "      <td>Remote</td>\n",
       "      <td>Internship</td>\n",
       "      <td>Entry</td>\n",
       "      <td>USD 9K - 11K</td>\n",
       "      <td>NannyML</td>\n",
       "      <td>9000.0</td>\n",
       "      <td>11000.0</td>\n",
       "      <td>USD</td>\n",
       "      <td>...</td>\n",
       "      <td>0</td>\n",
       "      <td>0</td>\n",
       "      <td>0</td>\n",
       "      <td>0</td>\n",
       "      <td>en</td>\n",
       "      <td>en</td>\n",
       "      <td>NaN</td>\n",
       "      <td>creator open source python library looking mul...</td>\n",
       "      <td>data science</td>\n",
       "      <td>True</td>\n",
       "    </tr>\n",
       "    <tr>\n",
       "      <th>1</th>\n",
       "      <td>https://ai-jobs.net/job/30723-data-scientist-r...</td>\n",
       "      <td>Data Scientist - Research, Development &amp; Const...</td>\n",
       "      <td>Remote, Hybrid Available (Chicago)</td>\n",
       "      <td>Full Time</td>\n",
       "      <td>Senior</td>\n",
       "      <td>USD 55K - 120K</td>\n",
       "      <td>HFR, Inc.</td>\n",
       "      <td>55000.0</td>\n",
       "      <td>120000.0</td>\n",
       "      <td>USD</td>\n",
       "      <td>...</td>\n",
       "      <td>0</td>\n",
       "      <td>0</td>\n",
       "      <td>0</td>\n",
       "      <td>0</td>\n",
       "      <td>en</td>\n",
       "      <td>en</td>\n",
       "      <td>Research, Development &amp; Construction</td>\n",
       "      <td>hfr wa founded specializes area hedge fundalte...</td>\n",
       "      <td>data science</td>\n",
       "      <td>True</td>\n",
       "    </tr>\n",
       "    <tr>\n",
       "      <th>2</th>\n",
       "      <td>https://ai-jobs.net/job/30166-postdoctoral-res...</td>\n",
       "      <td>Postdoctoral Research Associate - Boundary Pla...</td>\n",
       "      <td>Oak Ridge, TN, United States</td>\n",
       "      <td>Temporary</td>\n",
       "      <td>Mid</td>\n",
       "      <td>NaN</td>\n",
       "      <td>Oak Ridge National Laboratory</td>\n",
       "      <td>NaN</td>\n",
       "      <td>NaN</td>\n",
       "      <td>NaN</td>\n",
       "      <td>...</td>\n",
       "      <td>0</td>\n",
       "      <td>0</td>\n",
       "      <td>0</td>\n",
       "      <td>0</td>\n",
       "      <td>en</td>\n",
       "      <td>en</td>\n",
       "      <td>Boundary Plasma Physicist</td>\n",
       "      <td>overview largest u department energy science e...</td>\n",
       "      <td>research science</td>\n",
       "      <td>False</td>\n",
       "    </tr>\n",
       "    <tr>\n",
       "      <th>3</th>\n",
       "      <td>https://ai-jobs.net/job/30091-data-science-and...</td>\n",
       "      <td>Data Science and Machine Learning Manager</td>\n",
       "      <td>Remote- USA</td>\n",
       "      <td>Full Time</td>\n",
       "      <td>Senior</td>\n",
       "      <td>USD 150K - 200K</td>\n",
       "      <td>Libertas Funding</td>\n",
       "      <td>150000.0</td>\n",
       "      <td>200000.0</td>\n",
       "      <td>USD</td>\n",
       "      <td>...</td>\n",
       "      <td>1</td>\n",
       "      <td>0</td>\n",
       "      <td>0</td>\n",
       "      <td>0</td>\n",
       "      <td>en</td>\n",
       "      <td>en</td>\n",
       "      <td>NaN</td>\n",
       "      <td>usa remote position position summary data lead...</td>\n",
       "      <td>management</td>\n",
       "      <td>True</td>\n",
       "    </tr>\n",
       "    <tr>\n",
       "      <th>4</th>\n",
       "      <td>https://ai-jobs.net/job/29940-social-science-r...</td>\n",
       "      <td>Social Science Researcher, Sr. Manager</td>\n",
       "      <td>Washington, DC</td>\n",
       "      <td>Full Time</td>\n",
       "      <td>Mid</td>\n",
       "      <td>USD 84K - 94K</td>\n",
       "      <td>Polaris Project</td>\n",
       "      <td>84000.0</td>\n",
       "      <td>94000.0</td>\n",
       "      <td>USD</td>\n",
       "      <td>...</td>\n",
       "      <td>0</td>\n",
       "      <td>0</td>\n",
       "      <td>0</td>\n",
       "      <td>0</td>\n",
       "      <td>en</td>\n",
       "      <td>en</td>\n",
       "      <td>NaN</td>\n",
       "      <td>position social science researcher senior mana...</td>\n",
       "      <td>management</td>\n",
       "      <td>True</td>\n",
       "    </tr>\n",
       "  </tbody>\n",
       "</table>\n",
       "<p>5 rows × 318 columns</p>\n",
       "</div>"
      ],
      "text/plain": [
       "                                                 url  \\\n",
       "0  https://ai-jobs.net/job/32218-data-science-con...   \n",
       "1  https://ai-jobs.net/job/30723-data-scientist-r...   \n",
       "2  https://ai-jobs.net/job/30166-postdoctoral-res...   \n",
       "3  https://ai-jobs.net/job/30091-data-science-and...   \n",
       "4  https://ai-jobs.net/job/29940-social-science-r...   \n",
       "\n",
       "                                               title  \\\n",
       "0               Data Science Content Intern (Remote)   \n",
       "1  Data Scientist - Research, Development & Const...   \n",
       "2  Postdoctoral Research Associate - Boundary Pla...   \n",
       "3          Data Science and Machine Learning Manager   \n",
       "4             Social Science Researcher, Sr. Manager   \n",
       "\n",
       "                             location        type   level      salaryRange  \\\n",
       "0                              Remote  Internship   Entry     USD 9K - 11K   \n",
       "1  Remote, Hybrid Available (Chicago)   Full Time  Senior   USD 55K - 120K   \n",
       "2        Oak Ridge, TN, United States   Temporary     Mid              NaN   \n",
       "3                         Remote- USA   Full Time  Senior  USD 150K - 200K   \n",
       "4                      Washington, DC   Full Time     Mid    USD 84K - 94K   \n",
       "\n",
       "                         company  minSalary  maxSalary currency  ... XGBoost  \\\n",
       "0                        NannyML     9000.0    11000.0      USD  ...       0   \n",
       "1                      HFR, Inc.    55000.0   120000.0      USD  ...       0   \n",
       "2  Oak Ridge National Laboratory        NaN        NaN      NaN  ...       0   \n",
       "3               Libertas Funding   150000.0   200000.0      USD  ...       1   \n",
       "4                Polaris Project    84000.0    94000.0      USD  ...       0   \n",
       "\n",
       "  XML ggplot2 spaCy lang titleLang                               details  \\\n",
       "0   0       0     0   en        en                                   NaN   \n",
       "1   0       0     0   en        en  Research, Development & Construction   \n",
       "2   0       0     0   en        en             Boundary Plasma Physicist   \n",
       "3   0       0     0   en        en                                   NaN   \n",
       "4   0       0     0   en        en                                   NaN   \n",
       "\n",
       "                                 finalJobDescription             scope  \\\n",
       "0  creator open source python library looking mul...      data science   \n",
       "1  hfr wa founded specializes area hedge fundalte...      data science   \n",
       "2  overview largest u department energy science e...  research science   \n",
       "3  usa remote position position summary data lead...        management   \n",
       "4  position social science researcher senior mana...        management   \n",
       "\n",
       "   hasSalary  \n",
       "0       True  \n",
       "1       True  \n",
       "2      False  \n",
       "3       True  \n",
       "4       True  \n",
       "\n",
       "[5 rows x 318 columns]"
      ]
     },
     "execution_count": 8,
     "metadata": {},
     "output_type": "execute_result"
    }
   ],
   "source": [
    "modelling_df.head()"
   ]
  },
  {
   "cell_type": "code",
   "execution_count": 10,
   "id": "089f6857",
   "metadata": {},
   "outputs": [
    {
     "data": {
      "text/plain": [
       "625"
      ]
     },
     "execution_count": 10,
     "metadata": {},
     "output_type": "execute_result"
    }
   ],
   "source": [
    "modelling_df.location.str.contains('Remote').sum()"
   ]
  },
  {
   "cell_type": "code",
   "execution_count": 11,
   "id": "24071a0f",
   "metadata": {},
   "outputs": [
    {
     "data": {
      "text/plain": [
       "10"
      ]
     },
     "execution_count": 11,
     "metadata": {},
     "output_type": "execute_result"
    }
   ],
   "source": [
    "modelling_df.location.str.contains('remote').sum()"
   ]
  },
  {
   "cell_type": "code",
   "execution_count": 12,
   "id": "b4c5b75f",
   "metadata": {},
   "outputs": [],
   "source": [
    "modelling_df = modelling_df.drop(columns=['url', 'title', 'location', 'salaryRange',\n",
    "                                'maxSalary', 'currency', 'salaryPeriod', 'hasSalary',\n",
    "                                          'company', 'position', 'datePosted', 'validThrough', 'jobDescription', \n",
    "                                           'skills', 'lang', 'titleLang', 'details'])"
   ]
  },
  {
   "cell_type": "code",
   "execution_count": 13,
   "id": "1e60a067",
   "metadata": {},
   "outputs": [
    {
     "data": {
      "text/html": [
       "<div>\n",
       "<style scoped>\n",
       "    .dataframe tbody tr th:only-of-type {\n",
       "        vertical-align: middle;\n",
       "    }\n",
       "\n",
       "    .dataframe tbody tr th {\n",
       "        vertical-align: top;\n",
       "    }\n",
       "\n",
       "    .dataframe thead th {\n",
       "        text-align: right;\n",
       "    }\n",
       "</style>\n",
       "<table border=\"1\" class=\"dataframe\">\n",
       "  <thead>\n",
       "    <tr style=\"text-align: right;\">\n",
       "      <th></th>\n",
       "      <th>type</th>\n",
       "      <th>level</th>\n",
       "      <th>minSalary</th>\n",
       "      <th>.NET</th>\n",
       "      <th>3D Reconstruction</th>\n",
       "      <th>A/B testing</th>\n",
       "      <th>AGI</th>\n",
       "      <th>AI governance</th>\n",
       "      <th>AI strategy</th>\n",
       "      <th>AIStats</th>\n",
       "      <th>...</th>\n",
       "      <th>Unstructured data</th>\n",
       "      <th>VR</th>\n",
       "      <th>Visual SLAM</th>\n",
       "      <th>Weka</th>\n",
       "      <th>XGBoost</th>\n",
       "      <th>XML</th>\n",
       "      <th>ggplot2</th>\n",
       "      <th>spaCy</th>\n",
       "      <th>finalJobDescription</th>\n",
       "      <th>scope</th>\n",
       "    </tr>\n",
       "  </thead>\n",
       "  <tbody>\n",
       "    <tr>\n",
       "      <th>0</th>\n",
       "      <td>Internship</td>\n",
       "      <td>Entry</td>\n",
       "      <td>9000.0</td>\n",
       "      <td>0</td>\n",
       "      <td>0</td>\n",
       "      <td>0</td>\n",
       "      <td>0</td>\n",
       "      <td>0</td>\n",
       "      <td>0</td>\n",
       "      <td>0</td>\n",
       "      <td>...</td>\n",
       "      <td>0</td>\n",
       "      <td>0</td>\n",
       "      <td>0</td>\n",
       "      <td>0</td>\n",
       "      <td>0</td>\n",
       "      <td>0</td>\n",
       "      <td>0</td>\n",
       "      <td>0</td>\n",
       "      <td>creator open source python library looking mul...</td>\n",
       "      <td>data science</td>\n",
       "    </tr>\n",
       "    <tr>\n",
       "      <th>1</th>\n",
       "      <td>Full Time</td>\n",
       "      <td>Senior</td>\n",
       "      <td>55000.0</td>\n",
       "      <td>0</td>\n",
       "      <td>0</td>\n",
       "      <td>0</td>\n",
       "      <td>0</td>\n",
       "      <td>0</td>\n",
       "      <td>0</td>\n",
       "      <td>0</td>\n",
       "      <td>...</td>\n",
       "      <td>0</td>\n",
       "      <td>0</td>\n",
       "      <td>0</td>\n",
       "      <td>0</td>\n",
       "      <td>0</td>\n",
       "      <td>0</td>\n",
       "      <td>0</td>\n",
       "      <td>0</td>\n",
       "      <td>hfr wa founded specializes area hedge fundalte...</td>\n",
       "      <td>data science</td>\n",
       "    </tr>\n",
       "    <tr>\n",
       "      <th>2</th>\n",
       "      <td>Temporary</td>\n",
       "      <td>Mid</td>\n",
       "      <td>NaN</td>\n",
       "      <td>0</td>\n",
       "      <td>0</td>\n",
       "      <td>0</td>\n",
       "      <td>0</td>\n",
       "      <td>0</td>\n",
       "      <td>0</td>\n",
       "      <td>0</td>\n",
       "      <td>...</td>\n",
       "      <td>0</td>\n",
       "      <td>0</td>\n",
       "      <td>0</td>\n",
       "      <td>0</td>\n",
       "      <td>0</td>\n",
       "      <td>0</td>\n",
       "      <td>0</td>\n",
       "      <td>0</td>\n",
       "      <td>overview largest u department energy science e...</td>\n",
       "      <td>research science</td>\n",
       "    </tr>\n",
       "    <tr>\n",
       "      <th>3</th>\n",
       "      <td>Full Time</td>\n",
       "      <td>Senior</td>\n",
       "      <td>150000.0</td>\n",
       "      <td>0</td>\n",
       "      <td>0</td>\n",
       "      <td>0</td>\n",
       "      <td>0</td>\n",
       "      <td>0</td>\n",
       "      <td>0</td>\n",
       "      <td>0</td>\n",
       "      <td>...</td>\n",
       "      <td>0</td>\n",
       "      <td>0</td>\n",
       "      <td>0</td>\n",
       "      <td>0</td>\n",
       "      <td>1</td>\n",
       "      <td>0</td>\n",
       "      <td>0</td>\n",
       "      <td>0</td>\n",
       "      <td>usa remote position position summary data lead...</td>\n",
       "      <td>management</td>\n",
       "    </tr>\n",
       "    <tr>\n",
       "      <th>4</th>\n",
       "      <td>Full Time</td>\n",
       "      <td>Mid</td>\n",
       "      <td>84000.0</td>\n",
       "      <td>0</td>\n",
       "      <td>0</td>\n",
       "      <td>0</td>\n",
       "      <td>0</td>\n",
       "      <td>0</td>\n",
       "      <td>0</td>\n",
       "      <td>0</td>\n",
       "      <td>...</td>\n",
       "      <td>0</td>\n",
       "      <td>0</td>\n",
       "      <td>0</td>\n",
       "      <td>0</td>\n",
       "      <td>0</td>\n",
       "      <td>0</td>\n",
       "      <td>0</td>\n",
       "      <td>0</td>\n",
       "      <td>position social science researcher senior mana...</td>\n",
       "      <td>management</td>\n",
       "    </tr>\n",
       "  </tbody>\n",
       "</table>\n",
       "<p>5 rows × 301 columns</p>\n",
       "</div>"
      ],
      "text/plain": [
       "         type   level  minSalary  .NET  3D Reconstruction  A/B testing  AGI  \\\n",
       "0  Internship   Entry     9000.0     0                  0            0    0   \n",
       "1   Full Time  Senior    55000.0     0                  0            0    0   \n",
       "2   Temporary     Mid        NaN     0                  0            0    0   \n",
       "3   Full Time  Senior   150000.0     0                  0            0    0   \n",
       "4   Full Time     Mid    84000.0     0                  0            0    0   \n",
       "\n",
       "   AI governance  AI strategy  AIStats  ...  Unstructured data  VR  \\\n",
       "0              0            0        0  ...                  0   0   \n",
       "1              0            0        0  ...                  0   0   \n",
       "2              0            0        0  ...                  0   0   \n",
       "3              0            0        0  ...                  0   0   \n",
       "4              0            0        0  ...                  0   0   \n",
       "\n",
       "   Visual SLAM  Weka  XGBoost  XML  ggplot2  spaCy  \\\n",
       "0            0     0        0    0        0      0   \n",
       "1            0     0        0    0        0      0   \n",
       "2            0     0        0    0        0      0   \n",
       "3            0     0        1    0        0      0   \n",
       "4            0     0        0    0        0      0   \n",
       "\n",
       "                                 finalJobDescription             scope  \n",
       "0  creator open source python library looking mul...      data science  \n",
       "1  hfr wa founded specializes area hedge fundalte...      data science  \n",
       "2  overview largest u department energy science e...  research science  \n",
       "3  usa remote position position summary data lead...        management  \n",
       "4  position social science researcher senior mana...        management  \n",
       "\n",
       "[5 rows x 301 columns]"
      ]
     },
     "execution_count": 13,
     "metadata": {},
     "output_type": "execute_result"
    }
   ],
   "source": [
    "modelling_df.head()"
   ]
  },
  {
   "cell_type": "code",
   "execution_count": 20,
   "id": "b4cd1736",
   "metadata": {},
   "outputs": [
    {
     "data": {
      "text/plain": [
       "type                      0\n",
       "level                     0\n",
       "minSalary              1713\n",
       ".NET                      0\n",
       "3D Reconstruction         0\n",
       "                       ... \n",
       "XML                       0\n",
       "ggplot2                   0\n",
       "spaCy                     0\n",
       "finalJobDescription       0\n",
       "scope                     0\n",
       "Length: 301, dtype: int64"
      ]
     },
     "execution_count": 20,
     "metadata": {},
     "output_type": "execute_result"
    }
   ],
   "source": [
    "modelling_df.isna().sum()"
   ]
  },
  {
   "cell_type": "code",
   "execution_count": 19,
   "id": "b0aa1a27",
   "metadata": {},
   "outputs": [],
   "source": [
    "modelling_df.level.fillna(\"nan\", inplace=True)"
   ]
  },
  {
   "cell_type": "code",
   "execution_count": 21,
   "id": "a89e4081",
   "metadata": {},
   "outputs": [],
   "source": [
    "X = modelling_df.drop(columns=['minSalary'])"
   ]
  },
  {
   "cell_type": "code",
   "execution_count": 22,
   "id": "7b86fff7",
   "metadata": {},
   "outputs": [],
   "source": [
    "X_proc = preprocessor.transform(X)"
   ]
  },
  {
   "cell_type": "code",
   "execution_count": 23,
   "id": "a7212016",
   "metadata": {},
   "outputs": [
    {
     "name": "stdout",
     "output_type": "stream",
     "text": [
      "CPU times: user 18.8 s, sys: 13.2 s, total: 32 s\n",
      "Wall time: 37.5 s\n"
     ]
    },
    {
     "data": {
      "text/plain": [
       "array([21581.09841387, 67087.92430104, 41083.80968114, ...,\n",
       "       66737.17095457, 37824.69408921, 68806.23515169])"
      ]
     },
     "execution_count": 23,
     "metadata": {},
     "output_type": "execute_result"
    }
   ],
   "source": [
    "%%time\n",
    "model.predict(X_proc)"
   ]
  },
  {
   "cell_type": "code",
   "execution_count": 24,
   "id": "0eb1a9a0",
   "metadata": {},
   "outputs": [],
   "source": [
    "Predictions = model.predict(X_proc)"
   ]
  },
  {
   "cell_type": "code",
   "execution_count": 25,
   "id": "5d4fc82f",
   "metadata": {},
   "outputs": [],
   "source": [
    "modelling_df['pred'] = Predictions"
   ]
  },
  {
   "cell_type": "code",
   "execution_count": 27,
   "id": "4579afbc",
   "metadata": {
    "scrolled": true
   },
   "outputs": [
    {
     "data": {
      "text/html": [
       "<div>\n",
       "<style scoped>\n",
       "    .dataframe tbody tr th:only-of-type {\n",
       "        vertical-align: middle;\n",
       "    }\n",
       "\n",
       "    .dataframe tbody tr th {\n",
       "        vertical-align: top;\n",
       "    }\n",
       "\n",
       "    .dataframe thead th {\n",
       "        text-align: right;\n",
       "    }\n",
       "</style>\n",
       "<table border=\"1\" class=\"dataframe\">\n",
       "  <thead>\n",
       "    <tr style=\"text-align: right;\">\n",
       "      <th></th>\n",
       "      <th>type</th>\n",
       "      <th>level</th>\n",
       "      <th>minSalary</th>\n",
       "      <th>.NET</th>\n",
       "      <th>3D Reconstruction</th>\n",
       "      <th>A/B testing</th>\n",
       "      <th>AGI</th>\n",
       "      <th>AI governance</th>\n",
       "      <th>AI strategy</th>\n",
       "      <th>AIStats</th>\n",
       "      <th>...</th>\n",
       "      <th>VR</th>\n",
       "      <th>Visual SLAM</th>\n",
       "      <th>Weka</th>\n",
       "      <th>XGBoost</th>\n",
       "      <th>XML</th>\n",
       "      <th>ggplot2</th>\n",
       "      <th>spaCy</th>\n",
       "      <th>finalJobDescription</th>\n",
       "      <th>scope</th>\n",
       "      <th>pred</th>\n",
       "    </tr>\n",
       "  </thead>\n",
       "  <tbody>\n",
       "    <tr>\n",
       "      <th>0</th>\n",
       "      <td>Internship</td>\n",
       "      <td>Entry</td>\n",
       "      <td>9000.0</td>\n",
       "      <td>0</td>\n",
       "      <td>0</td>\n",
       "      <td>0</td>\n",
       "      <td>0</td>\n",
       "      <td>0</td>\n",
       "      <td>0</td>\n",
       "      <td>0</td>\n",
       "      <td>...</td>\n",
       "      <td>0</td>\n",
       "      <td>0</td>\n",
       "      <td>0</td>\n",
       "      <td>0</td>\n",
       "      <td>0</td>\n",
       "      <td>0</td>\n",
       "      <td>0</td>\n",
       "      <td>creator open source python library looking mul...</td>\n",
       "      <td>data science</td>\n",
       "      <td>21581.098414</td>\n",
       "    </tr>\n",
       "    <tr>\n",
       "      <th>1</th>\n",
       "      <td>Full Time</td>\n",
       "      <td>Senior</td>\n",
       "      <td>55000.0</td>\n",
       "      <td>0</td>\n",
       "      <td>0</td>\n",
       "      <td>0</td>\n",
       "      <td>0</td>\n",
       "      <td>0</td>\n",
       "      <td>0</td>\n",
       "      <td>0</td>\n",
       "      <td>...</td>\n",
       "      <td>0</td>\n",
       "      <td>0</td>\n",
       "      <td>0</td>\n",
       "      <td>0</td>\n",
       "      <td>0</td>\n",
       "      <td>0</td>\n",
       "      <td>0</td>\n",
       "      <td>hfr wa founded specializes area hedge fundalte...</td>\n",
       "      <td>data science</td>\n",
       "      <td>67087.924301</td>\n",
       "    </tr>\n",
       "    <tr>\n",
       "      <th>2</th>\n",
       "      <td>Temporary</td>\n",
       "      <td>Mid</td>\n",
       "      <td>NaN</td>\n",
       "      <td>0</td>\n",
       "      <td>0</td>\n",
       "      <td>0</td>\n",
       "      <td>0</td>\n",
       "      <td>0</td>\n",
       "      <td>0</td>\n",
       "      <td>0</td>\n",
       "      <td>...</td>\n",
       "      <td>0</td>\n",
       "      <td>0</td>\n",
       "      <td>0</td>\n",
       "      <td>0</td>\n",
       "      <td>0</td>\n",
       "      <td>0</td>\n",
       "      <td>0</td>\n",
       "      <td>overview largest u department energy science e...</td>\n",
       "      <td>research science</td>\n",
       "      <td>41083.809681</td>\n",
       "    </tr>\n",
       "    <tr>\n",
       "      <th>3</th>\n",
       "      <td>Full Time</td>\n",
       "      <td>Senior</td>\n",
       "      <td>150000.0</td>\n",
       "      <td>0</td>\n",
       "      <td>0</td>\n",
       "      <td>0</td>\n",
       "      <td>0</td>\n",
       "      <td>0</td>\n",
       "      <td>0</td>\n",
       "      <td>0</td>\n",
       "      <td>...</td>\n",
       "      <td>0</td>\n",
       "      <td>0</td>\n",
       "      <td>0</td>\n",
       "      <td>1</td>\n",
       "      <td>0</td>\n",
       "      <td>0</td>\n",
       "      <td>0</td>\n",
       "      <td>usa remote position position summary data lead...</td>\n",
       "      <td>management</td>\n",
       "      <td>72962.858214</td>\n",
       "    </tr>\n",
       "    <tr>\n",
       "      <th>4</th>\n",
       "      <td>Full Time</td>\n",
       "      <td>Mid</td>\n",
       "      <td>84000.0</td>\n",
       "      <td>0</td>\n",
       "      <td>0</td>\n",
       "      <td>0</td>\n",
       "      <td>0</td>\n",
       "      <td>0</td>\n",
       "      <td>0</td>\n",
       "      <td>0</td>\n",
       "      <td>...</td>\n",
       "      <td>0</td>\n",
       "      <td>0</td>\n",
       "      <td>0</td>\n",
       "      <td>0</td>\n",
       "      <td>0</td>\n",
       "      <td>0</td>\n",
       "      <td>0</td>\n",
       "      <td>position social science researcher senior mana...</td>\n",
       "      <td>management</td>\n",
       "      <td>53749.227295</td>\n",
       "    </tr>\n",
       "    <tr>\n",
       "      <th>...</th>\n",
       "      <td>...</td>\n",
       "      <td>...</td>\n",
       "      <td>...</td>\n",
       "      <td>...</td>\n",
       "      <td>...</td>\n",
       "      <td>...</td>\n",
       "      <td>...</td>\n",
       "      <td>...</td>\n",
       "      <td>...</td>\n",
       "      <td>...</td>\n",
       "      <td>...</td>\n",
       "      <td>...</td>\n",
       "      <td>...</td>\n",
       "      <td>...</td>\n",
       "      <td>...</td>\n",
       "      <td>...</td>\n",
       "      <td>...</td>\n",
       "      <td>...</td>\n",
       "      <td>...</td>\n",
       "      <td>...</td>\n",
       "      <td>...</td>\n",
       "    </tr>\n",
       "    <tr>\n",
       "      <th>3714</th>\n",
       "      <td>Full Time</td>\n",
       "      <td>Mid</td>\n",
       "      <td>NaN</td>\n",
       "      <td>0</td>\n",
       "      <td>0</td>\n",
       "      <td>0</td>\n",
       "      <td>0</td>\n",
       "      <td>0</td>\n",
       "      <td>0</td>\n",
       "      <td>0</td>\n",
       "      <td>...</td>\n",
       "      <td>0</td>\n",
       "      <td>0</td>\n",
       "      <td>0</td>\n",
       "      <td>0</td>\n",
       "      <td>0</td>\n",
       "      <td>0</td>\n",
       "      <td>0</td>\n",
       "      <td>solute inc system looking experienced former n...</td>\n",
       "      <td>management</td>\n",
       "      <td>45675.086362</td>\n",
       "    </tr>\n",
       "    <tr>\n",
       "      <th>3715</th>\n",
       "      <td>Full Time</td>\n",
       "      <td>Senior</td>\n",
       "      <td>76000.0</td>\n",
       "      <td>0</td>\n",
       "      <td>0</td>\n",
       "      <td>0</td>\n",
       "      <td>0</td>\n",
       "      <td>0</td>\n",
       "      <td>0</td>\n",
       "      <td>0</td>\n",
       "      <td>...</td>\n",
       "      <td>0</td>\n",
       "      <td>0</td>\n",
       "      <td>0</td>\n",
       "      <td>0</td>\n",
       "      <td>0</td>\n",
       "      <td>0</td>\n",
       "      <td>0</td>\n",
       "      <td>ciampampt digital specialist partner endtoend ...</td>\n",
       "      <td>data engineering</td>\n",
       "      <td>75507.343261</td>\n",
       "    </tr>\n",
       "    <tr>\n",
       "      <th>3716</th>\n",
       "      <td>Full Time</td>\n",
       "      <td>Senior</td>\n",
       "      <td>56000.0</td>\n",
       "      <td>0</td>\n",
       "      <td>0</td>\n",
       "      <td>0</td>\n",
       "      <td>0</td>\n",
       "      <td>0</td>\n",
       "      <td>0</td>\n",
       "      <td>0</td>\n",
       "      <td>...</td>\n",
       "      <td>0</td>\n",
       "      <td>0</td>\n",
       "      <td>0</td>\n",
       "      <td>0</td>\n",
       "      <td>0</td>\n",
       "      <td>0</td>\n",
       "      <td>0</td>\n",
       "      <td>remote hybridpersons role expected spend part ...</td>\n",
       "      <td>research science</td>\n",
       "      <td>66737.170955</td>\n",
       "    </tr>\n",
       "    <tr>\n",
       "      <th>3717</th>\n",
       "      <td>Full Time</td>\n",
       "      <td>Mid</td>\n",
       "      <td>NaN</td>\n",
       "      <td>0</td>\n",
       "      <td>0</td>\n",
       "      <td>0</td>\n",
       "      <td>0</td>\n",
       "      <td>0</td>\n",
       "      <td>0</td>\n",
       "      <td>0</td>\n",
       "      <td>...</td>\n",
       "      <td>0</td>\n",
       "      <td>0</td>\n",
       "      <td>0</td>\n",
       "      <td>0</td>\n",
       "      <td>0</td>\n",
       "      <td>0</td>\n",
       "      <td>0</td>\n",
       "      <td>seeking market data engineer help design build...</td>\n",
       "      <td>software engineering</td>\n",
       "      <td>37824.694089</td>\n",
       "    </tr>\n",
       "    <tr>\n",
       "      <th>3718</th>\n",
       "      <td>Internship</td>\n",
       "      <td>Senior</td>\n",
       "      <td>NaN</td>\n",
       "      <td>0</td>\n",
       "      <td>0</td>\n",
       "      <td>0</td>\n",
       "      <td>0</td>\n",
       "      <td>0</td>\n",
       "      <td>0</td>\n",
       "      <td>0</td>\n",
       "      <td>...</td>\n",
       "      <td>0</td>\n",
       "      <td>0</td>\n",
       "      <td>0</td>\n",
       "      <td>0</td>\n",
       "      <td>0</td>\n",
       "      <td>0</td>\n",
       "      <td>0</td>\n",
       "      <td>global blockchain behind world largest digital...</td>\n",
       "      <td>other</td>\n",
       "      <td>68806.235152</td>\n",
       "    </tr>\n",
       "  </tbody>\n",
       "</table>\n",
       "<p>3719 rows × 302 columns</p>\n",
       "</div>"
      ],
      "text/plain": [
       "            type   level  minSalary  .NET  3D Reconstruction  A/B testing  \\\n",
       "0     Internship   Entry     9000.0     0                  0            0   \n",
       "1      Full Time  Senior    55000.0     0                  0            0   \n",
       "2      Temporary     Mid        NaN     0                  0            0   \n",
       "3      Full Time  Senior   150000.0     0                  0            0   \n",
       "4      Full Time     Mid    84000.0     0                  0            0   \n",
       "...          ...     ...        ...   ...                ...          ...   \n",
       "3714   Full Time     Mid        NaN     0                  0            0   \n",
       "3715   Full Time  Senior    76000.0     0                  0            0   \n",
       "3716   Full Time  Senior    56000.0     0                  0            0   \n",
       "3717   Full Time     Mid        NaN     0                  0            0   \n",
       "3718  Internship  Senior        NaN     0                  0            0   \n",
       "\n",
       "      AGI  AI governance  AI strategy  AIStats  ...  VR  Visual SLAM  Weka  \\\n",
       "0       0              0            0        0  ...   0            0     0   \n",
       "1       0              0            0        0  ...   0            0     0   \n",
       "2       0              0            0        0  ...   0            0     0   \n",
       "3       0              0            0        0  ...   0            0     0   \n",
       "4       0              0            0        0  ...   0            0     0   \n",
       "...   ...            ...          ...      ...  ...  ..          ...   ...   \n",
       "3714    0              0            0        0  ...   0            0     0   \n",
       "3715    0              0            0        0  ...   0            0     0   \n",
       "3716    0              0            0        0  ...   0            0     0   \n",
       "3717    0              0            0        0  ...   0            0     0   \n",
       "3718    0              0            0        0  ...   0            0     0   \n",
       "\n",
       "      XGBoost  XML  ggplot2  spaCy  \\\n",
       "0           0    0        0      0   \n",
       "1           0    0        0      0   \n",
       "2           0    0        0      0   \n",
       "3           1    0        0      0   \n",
       "4           0    0        0      0   \n",
       "...       ...  ...      ...    ...   \n",
       "3714        0    0        0      0   \n",
       "3715        0    0        0      0   \n",
       "3716        0    0        0      0   \n",
       "3717        0    0        0      0   \n",
       "3718        0    0        0      0   \n",
       "\n",
       "                                    finalJobDescription                 scope  \\\n",
       "0     creator open source python library looking mul...          data science   \n",
       "1     hfr wa founded specializes area hedge fundalte...          data science   \n",
       "2     overview largest u department energy science e...      research science   \n",
       "3     usa remote position position summary data lead...            management   \n",
       "4     position social science researcher senior mana...            management   \n",
       "...                                                 ...                   ...   \n",
       "3714  solute inc system looking experienced former n...            management   \n",
       "3715  ciampampt digital specialist partner endtoend ...      data engineering   \n",
       "3716  remote hybridpersons role expected spend part ...      research science   \n",
       "3717  seeking market data engineer help design build...  software engineering   \n",
       "3718  global blockchain behind world largest digital...                 other   \n",
       "\n",
       "              pred  \n",
       "0     21581.098414  \n",
       "1     67087.924301  \n",
       "2     41083.809681  \n",
       "3     72962.858214  \n",
       "4     53749.227295  \n",
       "...            ...  \n",
       "3714  45675.086362  \n",
       "3715  75507.343261  \n",
       "3716  66737.170955  \n",
       "3717  37824.694089  \n",
       "3718  68806.235152  \n",
       "\n",
       "[3719 rows x 302 columns]"
      ]
     },
     "execution_count": 27,
     "metadata": {},
     "output_type": "execute_result"
    }
   ],
   "source": [
    "modelling_df"
   ]
  },
  {
   "cell_type": "code",
   "execution_count": 29,
   "id": "2aad81f8",
   "metadata": {},
   "outputs": [],
   "source": [
    "tru = modelling_df[~modelling_df.minSalary.isna()].minSalary.to_numpy()\n",
    "pre = modelling_df[~modelling_df.minSalary.isna()].pred.to_numpy()"
   ]
  },
  {
   "cell_type": "code",
   "execution_count": 30,
   "id": "0e911e61",
   "metadata": {},
   "outputs": [],
   "source": [
    "from sklearn.metrics import mean_absolute_percentage_error"
   ]
  },
  {
   "cell_type": "code",
   "execution_count": 31,
   "id": "706ff8c0",
   "metadata": {},
   "outputs": [
    {
     "data": {
      "text/plain": [
       "0.0913338279311539"
      ]
     },
     "execution_count": 31,
     "metadata": {},
     "output_type": "execute_result"
    }
   ],
   "source": [
    "mean_absolute_percentage_error(tru, pre)"
   ]
  },
  {
   "cell_type": "code",
   "execution_count": 32,
   "id": "ca0c1ec6",
   "metadata": {},
   "outputs": [],
   "source": [
    "def fill_salary(sal, pred):\n",
    "    if pd.isna(sal):\n",
    "        return pred\n",
    "    else:\n",
    "        return sal"
   ]
  },
  {
   "cell_type": "code",
   "execution_count": 33,
   "id": "940eba01",
   "metadata": {},
   "outputs": [],
   "source": [
    "modelling_df['minSalary'] = modelling_df.apply(lambda row: fill_salary(row['minSalary'], row['pred']), axis=1)"
   ]
  },
  {
   "cell_type": "code",
   "execution_count": 35,
   "id": "4a842bee",
   "metadata": {},
   "outputs": [],
   "source": [
    "modelling_df.drop(columns=['pred'], inplace=True)"
   ]
  },
  {
   "cell_type": "code",
   "execution_count": 36,
   "id": "782a41ec",
   "metadata": {},
   "outputs": [],
   "source": [
    "modelling_df.to_csv('./MODELLING_FILLED_PREDICTED.csv', index=False)"
   ]
  },
  {
   "cell_type": "markdown",
   "id": "254cd3aa",
   "metadata": {},
   "source": [
    "-----"
   ]
  },
  {
   "cell_type": "code",
   "execution_count": 37,
   "id": "93786e9d",
   "metadata": {},
   "outputs": [],
   "source": [
    "X = modelling_df.drop('minSalary', axis = 1)\n",
    "y = modelling_df.minSalary"
   ]
  },
  {
   "cell_type": "code",
   "execution_count": 38,
   "id": "54ab49d2",
   "metadata": {},
   "outputs": [],
   "source": [
    "X_train, X_test, y_train, y_test = train_test_split(X, y, test_size=0.3, random_state=43)"
   ]
  },
  {
   "cell_type": "code",
   "execution_count": 39,
   "id": "4d8d9ffb",
   "metadata": {},
   "outputs": [],
   "source": [
    "X_test, X_val, y_test, y_val = train_test_split(X_test, y_test, test_size=0.33, random_state=43)"
   ]
  },
  {
   "cell_type": "code",
   "execution_count": 43,
   "id": "96e51dfa",
   "metadata": {},
   "outputs": [],
   "source": [
    "X_train_proc = preprocessor.transform(X_train)\n",
    "X_test_proc = preprocessor.transform(X_test)\n",
    "X_val_proc = preprocessor.transform(X_val)"
   ]
  },
  {
   "cell_type": "code",
   "execution_count": 44,
   "id": "a1145b37",
   "metadata": {},
   "outputs": [],
   "source": [
    "X_train_proc = pd.DataFrame(X_train_proc, columns = [i for i in range(0, 57824)] + ['type', 'level', 'scope'])\n",
    "X_test_proc = pd.DataFrame(X_test_proc, columns = [i for i in range(0, 57824)] + ['type', 'level', 'scope'])\n",
    "X_val_proc = pd.DataFrame(X_val_proc, columns = [i for i in range(0, 57824)] + ['type', 'level', 'scope'])"
   ]
  },
  {
   "cell_type": "code",
   "execution_count": 45,
   "id": "75ba3967",
   "metadata": {},
   "outputs": [],
   "source": [
    "categorical_features = ['level', 'scope', 'type']"
   ]
  },
  {
   "cell_type": "code",
   "execution_count": 47,
   "id": "1d644137",
   "metadata": {},
   "outputs": [],
   "source": [
    "from catboost import Pool"
   ]
  },
  {
   "cell_type": "code",
   "execution_count": 48,
   "id": "4938f169",
   "metadata": {},
   "outputs": [],
   "source": [
    "learn_pool = Pool(X_train_proc, y_train, cat_features=categorical_features, feature_names=list(X_train_proc))\n",
    "test_pool = Pool(X_test_proc, y_test, cat_features=categorical_features, feature_names=list(X_test_proc))"
   ]
  },
  {
   "cell_type": "code",
   "execution_count": 50,
   "id": "394ca874",
   "metadata": {},
   "outputs": [],
   "source": [
    "from catboost import CatBoostRegressor"
   ]
  },
  {
   "cell_type": "code",
   "execution_count": 51,
   "id": "c2b500f4",
   "metadata": {},
   "outputs": [],
   "source": [
    "cb = CatBoostRegressor(iterations=30000, early_stopping_rounds=50, random_state=0, \n",
    "                       custom_metric=['RMSE', 'MAPE', 'R2'],\n",
    "                       task_type='CPU', verbose=0, loss_function='Huber:delta=1.35',\n",
    "                       depth=4, learning_rate=0.2, l2_leaf_reg=1\n",
    ")"
   ]
  },
  {
   "cell_type": "code",
   "execution_count": 52,
   "id": "5eadd3c2",
   "metadata": {},
   "outputs": [
    {
     "data": {
      "application/vnd.jupyter.widget-view+json": {
       "model_id": "",
       "version_major": 2,
       "version_minor": 0
      },
      "text/plain": [
       "MetricVisualizer(layout=Layout(align_self='stretch', height='500px'))"
      ]
     },
     "metadata": {},
     "output_type": "display_data"
    },
    {
     "data": {
      "text/plain": [
       "<catboost.core.CatBoostRegressor at 0x7fdf547cad00>"
      ]
     },
     "execution_count": 52,
     "metadata": {},
     "output_type": "execute_result"
    }
   ],
   "source": [
    "cb.fit(learn_pool, \n",
    "       eval_set=test_pool,\n",
    "       early_stopping_rounds=10,\n",
    "       plot=True,\n",
    "       silent=True)"
   ]
  },
  {
   "cell_type": "code",
   "execution_count": 54,
   "id": "efe71d12",
   "metadata": {},
   "outputs": [
    {
     "data": {
      "text/html": [
       "<div>\n",
       "<style scoped>\n",
       "    .dataframe tbody tr th:only-of-type {\n",
       "        vertical-align: middle;\n",
       "    }\n",
       "\n",
       "    .dataframe tbody tr th {\n",
       "        vertical-align: top;\n",
       "    }\n",
       "\n",
       "    .dataframe thead th {\n",
       "        text-align: right;\n",
       "    }\n",
       "</style>\n",
       "<table border=\"1\" class=\"dataframe\">\n",
       "  <thead>\n",
       "    <tr style=\"text-align: right;\">\n",
       "      <th></th>\n",
       "      <th>train</th>\n",
       "      <th>test</th>\n",
       "      <th>val</th>\n",
       "    </tr>\n",
       "  </thead>\n",
       "  <tbody>\n",
       "    <tr>\n",
       "      <th>rmse</th>\n",
       "      <td>15085.240756</td>\n",
       "      <td>19283.976536</td>\n",
       "      <td>17216.440051</td>\n",
       "    </tr>\n",
       "    <tr>\n",
       "      <th>mape</th>\n",
       "      <td>0.069517</td>\n",
       "      <td>0.095631</td>\n",
       "      <td>0.116609</td>\n",
       "    </tr>\n",
       "    <tr>\n",
       "      <th>r2</th>\n",
       "      <td>0.711114</td>\n",
       "      <td>0.585710</td>\n",
       "      <td>0.652358</td>\n",
       "    </tr>\n",
       "  </tbody>\n",
       "</table>\n",
       "</div>"
      ],
      "text/plain": [
       "             train          test           val\n",
       "rmse  15085.240756  19283.976536  17216.440051\n",
       "mape      0.069517      0.095631      0.116609\n",
       "r2        0.711114      0.585710      0.652358"
      ]
     },
     "execution_count": 54,
     "metadata": {},
     "output_type": "execute_result"
    }
   ],
   "source": [
    "result(cb)"
   ]
  },
  {
   "cell_type": "code",
   "execution_count": 59,
   "id": "dc9d9d15",
   "metadata": {},
   "outputs": [
    {
     "data": {
      "text/plain": [
       "array(['data science', 'research science', 'management',\n",
       "       'data engineering', 'other', 'architecture', 'data analytics',\n",
       "       'software engineering', 'ML engineering'], dtype=object)"
      ]
     },
     "execution_count": 59,
     "metadata": {},
     "output_type": "execute_result"
    }
   ],
   "source": [
    "modelling_df.scope.unique()"
   ]
  },
  {
   "cell_type": "code",
   "execution_count": null,
   "id": "5323634b",
   "metadata": {},
   "outputs": [],
   "source": []
  },
  {
   "cell_type": "code",
   "execution_count": 55,
   "id": "25084ae5",
   "metadata": {},
   "outputs": [],
   "source": [
    "cbb = CatBoostRegressor(iterations=30000, random_state=0, \n",
    "                       custom_metric=['RMSE', 'MAPE', 'R2'],\n",
    "                       task_type='CPU', verbose=0, loss_function='Huber:delta=1.35',\n",
    "                       depth=4, learning_rate=0.2, l2_leaf_reg=1\n",
    ")"
   ]
  },
  {
   "cell_type": "code",
   "execution_count": 56,
   "id": "13dbee9f",
   "metadata": {},
   "outputs": [
    {
     "data": {
      "application/vnd.jupyter.widget-view+json": {
       "model_id": "b22ccbcef3c54ad2bdc40c3319cf5fc0",
       "version_major": 2,
       "version_minor": 0
      },
      "text/plain": [
       "MetricVisualizer(layout=Layout(align_self='stretch', height='500px'))"
      ]
     },
     "metadata": {},
     "output_type": "display_data"
    },
    {
     "data": {
      "text/plain": [
       "<catboost.core.CatBoostRegressor at 0x7fdf5997bf70>"
      ]
     },
     "execution_count": 56,
     "metadata": {},
     "output_type": "execute_result"
    }
   ],
   "source": [
    "cbb.fit(learn_pool, \n",
    "       eval_set=test_pool,\n",
    "       early_stopping_rounds=5,\n",
    "       plot=True,\n",
    "       silent=True)"
   ]
  },
  {
   "cell_type": "code",
   "execution_count": 57,
   "id": "d1d6997a",
   "metadata": {},
   "outputs": [
    {
     "data": {
      "text/html": [
       "<div>\n",
       "<style scoped>\n",
       "    .dataframe tbody tr th:only-of-type {\n",
       "        vertical-align: middle;\n",
       "    }\n",
       "\n",
       "    .dataframe tbody tr th {\n",
       "        vertical-align: top;\n",
       "    }\n",
       "\n",
       "    .dataframe thead th {\n",
       "        text-align: right;\n",
       "    }\n",
       "</style>\n",
       "<table border=\"1\" class=\"dataframe\">\n",
       "  <thead>\n",
       "    <tr style=\"text-align: right;\">\n",
       "      <th></th>\n",
       "      <th>train</th>\n",
       "      <th>test</th>\n",
       "      <th>val</th>\n",
       "    </tr>\n",
       "  </thead>\n",
       "  <tbody>\n",
       "    <tr>\n",
       "      <th>rmse</th>\n",
       "      <td>15883.775774</td>\n",
       "      <td>20100.036435</td>\n",
       "      <td>17871.886414</td>\n",
       "    </tr>\n",
       "    <tr>\n",
       "      <th>mape</th>\n",
       "      <td>0.075827</td>\n",
       "      <td>0.098913</td>\n",
       "      <td>0.118259</td>\n",
       "    </tr>\n",
       "    <tr>\n",
       "      <th>r2</th>\n",
       "      <td>0.679721</td>\n",
       "      <td>0.549904</td>\n",
       "      <td>0.625384</td>\n",
       "    </tr>\n",
       "  </tbody>\n",
       "</table>\n",
       "</div>"
      ],
      "text/plain": [
       "             train          test           val\n",
       "rmse  15883.775774  20100.036435  17871.886414\n",
       "mape      0.075827      0.098913      0.118259\n",
       "r2        0.679721      0.549904      0.625384"
      ]
     },
     "execution_count": 57,
     "metadata": {},
     "output_type": "execute_result"
    }
   ],
   "source": [
    "result(cbb)"
   ]
  },
  {
   "cell_type": "code",
   "execution_count": null,
   "id": "7a82698c",
   "metadata": {},
   "outputs": [],
   "source": []
  },
  {
   "cell_type": "code",
   "execution_count": 53,
   "id": "eba564ec",
   "metadata": {},
   "outputs": [],
   "source": [
    "def result(model):\n",
    "    res = pd.DataFrame([[0.0, 0.0, 0.0], [0.0, 0.0, 0.0], [0.0, 0.0, 0.0]], columns=['train', 'test', 'val'],\n",
    "                      index=['rmse', 'mape', 'r2'])\n",
    "    \n",
    "    res.loc['rmse']['train'] = mean_squared_error(y_train, model.predict(X_train_proc), squared=False)\n",
    "    res.loc['rmse']['test'] = mean_squared_error(y_test, model.predict(X_test_proc), squared=False)\n",
    "    res.loc['rmse']['val'] = mean_squared_error(y_val, model.predict(X_val_proc), squared=False)\n",
    "    \n",
    "    \n",
    "    res.loc['mape']['train'] = mean_absolute_percentage_error(y_train, model.predict(X_train_proc))\n",
    "    res.loc['mape']['test'] = mean_absolute_percentage_error(y_test, model.predict(X_test_proc))\n",
    "    res.loc['mape']['val'] = mean_absolute_percentage_error(y_val, model.predict(X_val_proc))\n",
    "    \n",
    "    res.loc['r2']['train'] = r2_score(y_train, model.predict(X_train_proc))\n",
    "    res.loc['r2']['test'] = r2_score(y_test, model.predict(X_test_proc))\n",
    "    res.loc['r2']['val'] = r2_score(y_val, model.predict(X_val_proc))\n",
    "    \n",
    "    return res"
   ]
  },
  {
   "cell_type": "code",
   "execution_count": 58,
   "id": "73ee7d49",
   "metadata": {},
   "outputs": [
    {
     "data": {
      "text/plain": [
       "['cb_final.pkl']"
      ]
     },
     "execution_count": 58,
     "metadata": {},
     "output_type": "execute_result"
    }
   ],
   "source": [
    "joblib_file = 'cb_final.pkl'\n",
    "joblib.dump(cb, joblib_file)"
   ]
  }
 ],
 "metadata": {
  "kernelspec": {
   "display_name": "Python 3",
   "language": "python",
   "name": "python3"
  },
  "language_info": {
   "codemirror_mode": {
    "name": "ipython",
    "version": 3
   },
   "file_extension": ".py",
   "mimetype": "text/x-python",
   "name": "python",
   "nbconvert_exporter": "python",
   "pygments_lexer": "ipython3",
   "version": "3.8.8"
  }
 },
 "nbformat": 4,
 "nbformat_minor": 5
}
