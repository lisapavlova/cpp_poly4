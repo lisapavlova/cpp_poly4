{
 "cells": [
  {
   "cell_type": "markdown",
   "id": "taken-trauma",
   "metadata": {},
   "source": [
    "## Import of libraries"
   ]
  },
  {
   "cell_type": "code",
   "execution_count": 1,
   "id": "cloudy-bikini",
   "metadata": {
    "scrolled": true
   },
   "outputs": [
    {
     "name": "stdout",
     "output_type": "stream",
     "text": [
      "Requirement already satisfied: sklearn-pandas in /opt/anaconda3/lib/python3.8/site-packages (2.2.0)\n",
      "Requirement already satisfied: scipy>=1.5.1 in /opt/anaconda3/lib/python3.8/site-packages (from sklearn-pandas) (1.6.2)\n",
      "Requirement already satisfied: pandas>=1.1.4 in /opt/anaconda3/lib/python3.8/site-packages (from sklearn-pandas) (1.2.4)\n",
      "Requirement already satisfied: numpy>=1.18.1 in /opt/anaconda3/lib/python3.8/site-packages (from sklearn-pandas) (1.20.1)\n",
      "Requirement already satisfied: scikit-learn>=0.23.0 in /opt/anaconda3/lib/python3.8/site-packages (from sklearn-pandas) (0.24.1)\n",
      "Requirement already satisfied: python-dateutil>=2.7.3 in /opt/anaconda3/lib/python3.8/site-packages (from pandas>=1.1.4->sklearn-pandas) (2.8.1)\n",
      "Requirement already satisfied: pytz>=2017.3 in /opt/anaconda3/lib/python3.8/site-packages (from pandas>=1.1.4->sklearn-pandas) (2021.1)\n",
      "Requirement already satisfied: six>=1.5 in /opt/anaconda3/lib/python3.8/site-packages (from python-dateutil>=2.7.3->pandas>=1.1.4->sklearn-pandas) (1.15.0)\n",
      "Requirement already satisfied: joblib>=0.11 in /opt/anaconda3/lib/python3.8/site-packages (from scikit-learn>=0.23.0->sklearn-pandas) (1.0.1)\n",
      "Requirement already satisfied: threadpoolctl>=2.0.0 in /opt/anaconda3/lib/python3.8/site-packages (from scikit-learn>=0.23.0->sklearn-pandas) (2.1.0)\n"
     ]
    }
   ],
   "source": [
    "!pip install sklearn-pandas"
   ]
  },
  {
   "cell_type": "code",
   "execution_count": 2,
   "id": "northern-cleveland",
   "metadata": {},
   "outputs": [],
   "source": [
    "import numpy as np\n",
    "import pandas as pd\n",
    "\n",
    "from sklearn.base import BaseEstimator, TransformerMixin\n",
    "from sklearn.preprocessing import OneHotEncoder, PolynomialFeatures\n",
    "from sklearn.model_selection import train_test_split, ParameterGrid\n",
    "from sklearn.linear_model import ElasticNet, Lasso\n",
    "from sklearn.pipeline import Pipeline\n",
    "from sklearn.impute import SimpleImputer\n",
    "from sklearn_pandas import DataFrameMapper\n",
    "from sklearn.metrics import mean_squared_error\n",
    "from sklearn.compose import ColumnTransformer\n",
    "\n",
    "import warnings\n",
    "warnings.filterwarnings('ignore')"
   ]
  },
  {
   "cell_type": "markdown",
   "id": "intermediate-fifty",
   "metadata": {},
   "source": [
    "## Dataset"
   ]
  },
  {
   "cell_type": "code",
   "execution_count": 3,
   "id": "arctic-moral",
   "metadata": {},
   "outputs": [],
   "source": [
    "data = pd.read_csv('cars.csv')"
   ]
  },
  {
   "cell_type": "code",
   "execution_count": 4,
   "id": "64ca6707",
   "metadata": {},
   "outputs": [],
   "source": [
    "data.drop(data[data.year == 2060].index, inplace = True)\n",
    "data = data[~(data.year.isna())]"
   ]
  },
  {
   "cell_type": "markdown",
   "id": "expensive-jimmy",
   "metadata": {},
   "source": [
    "## Custom imputer for tax"
   ]
  },
  {
   "cell_type": "code",
   "execution_count": 5,
   "id": "insured-wellington",
   "metadata": {},
   "outputs": [],
   "source": [
    "class Merger(BaseEstimator, TransformerMixin):\n",
    "    def __init__(self, col_main, col_add):\n",
    "        self.col_main, = col_main,\n",
    "        self.col_add = col_add\n",
    "    \n",
    "    def fit(self, X, y=None):\n",
    "        return self\n",
    "    \n",
    "    def transform(self, X):\n",
    "        Xt = X.copy()\n",
    "        \n",
    "        Xt[self.col_main].fillna(Xt[self.col_add], inplace=True)\n",
    "        \n",
    "        return Xt"
   ]
  },
  {
   "cell_type": "markdown",
   "id": "intended-belle",
   "metadata": {},
   "source": [
    "## Train-test split"
   ]
  },
  {
   "cell_type": "code",
   "execution_count": 6,
   "id": "0673bbb9",
   "metadata": {},
   "outputs": [],
   "source": [
    "X = data.drop('price', axis = 1)\n",
    "y = data.price"
   ]
  },
  {
   "cell_type": "code",
   "execution_count": 7,
   "id": "1a2a9d24",
   "metadata": {},
   "outputs": [],
   "source": [
    "X_train, X_test, y_train, y_test = train_test_split(X, y, test_size=0.2, random_state=0)"
   ]
  },
  {
   "cell_type": "markdown",
   "id": "through-exhibition",
   "metadata": {},
   "source": [
    "## Defining mapper"
   ]
  },
  {
   "cell_type": "code",
   "execution_count": 8,
   "id": "cfa34cae",
   "metadata": {},
   "outputs": [],
   "source": [
    "numeric_features = ['year', 'mileage', 'tax', 'mpg', 'engineSize']\n",
    "nominal_features = ['transmission', 'brand', 'model', 'fuelType']\n",
    "\n",
    "mapper = DataFrameMapper(\n",
    "                    [([feature], SimpleImputer(strategy='median')) for feature in numeric_features] + [\n",
    "                    (['fuelType'], OneHotEncoder(sparse=False, drop='first')),\n",
    "                    (['transmission'], OneHotEncoder(sparse=False, drop='first')),    \n",
    "                    (['brand'], OneHotEncoder(sparse=False, handle_unknown='ignore')),\n",
    "                    (['model'], OneHotEncoder(sparse=False, handle_unknown='ignore')),\n",
    "], df_out=True)"
   ]
  },
  {
   "cell_type": "markdown",
   "id": "33c471d8",
   "metadata": {},
   "source": [
    "# Searching for best parameters with Parameter Grid"
   ]
  },
  {
   "cell_type": "markdown",
   "id": "3a29122d",
   "metadata": {},
   "source": [
    "## Elastic Net"
   ]
  },
  {
   "cell_type": "code",
   "execution_count": 9,
   "id": "2379f978",
   "metadata": {
    "scrolled": false
   },
   "outputs": [
    {
     "data": {
      "text/plain": [
       "{'alpha': [0.1, 0.325, 0.55, 0.775, 1.0],\n",
       " 'l1_ratio': [0.0, 0.25, 0.5, 0.75, 1.0]}"
      ]
     },
     "execution_count": 9,
     "metadata": {},
     "output_type": "execute_result"
    }
   ],
   "source": [
    "param_grid = dict(alpha=np.linspace(0.1, 1, 5).tolist(),\n",
    "                  l1_ratio=np.linspace(0, 1, 5).tolist())\n",
    "param_grid"
   ]
  },
  {
   "cell_type": "code",
   "execution_count": 10,
   "id": "7198b0a0",
   "metadata": {
    "scrolled": false
   },
   "outputs": [
    {
     "name": "stdout",
     "output_type": "stream",
     "text": [
      "{'alpha': 0.1, 'l1_ratio': 0.0}\n",
      "{'alpha': 0.1, 'l1_ratio': 0.25}\n",
      "{'alpha': 0.1, 'l1_ratio': 0.5}\n",
      "{'alpha': 0.1, 'l1_ratio': 0.75}\n",
      "{'alpha': 0.1, 'l1_ratio': 1.0}\n",
      "{'alpha': 0.325, 'l1_ratio': 0.0}\n",
      "{'alpha': 0.325, 'l1_ratio': 0.25}\n",
      "{'alpha': 0.325, 'l1_ratio': 0.5}\n",
      "{'alpha': 0.325, 'l1_ratio': 0.75}\n",
      "{'alpha': 0.325, 'l1_ratio': 1.0}\n",
      "{'alpha': 0.55, 'l1_ratio': 0.0}\n",
      "{'alpha': 0.55, 'l1_ratio': 0.25}\n",
      "{'alpha': 0.55, 'l1_ratio': 0.5}\n",
      "{'alpha': 0.55, 'l1_ratio': 0.75}\n",
      "{'alpha': 0.55, 'l1_ratio': 1.0}\n",
      "{'alpha': 0.775, 'l1_ratio': 0.0}\n",
      "{'alpha': 0.775, 'l1_ratio': 0.25}\n",
      "{'alpha': 0.775, 'l1_ratio': 0.5}\n",
      "{'alpha': 0.775, 'l1_ratio': 0.75}\n",
      "{'alpha': 0.775, 'l1_ratio': 1.0}\n",
      "{'alpha': 1.0, 'l1_ratio': 0.0}\n",
      "{'alpha': 1.0, 'l1_ratio': 0.25}\n",
      "{'alpha': 1.0, 'l1_ratio': 0.5}\n",
      "{'alpha': 1.0, 'l1_ratio': 0.75}\n",
      "{'alpha': 1.0, 'l1_ratio': 1.0}\n"
     ]
    }
   ],
   "source": [
    "results = []\n",
    "\n",
    "for params in ParameterGrid(param_grid):\n",
    "    print(params)\n",
    "    \n",
    "    pipe_reg = Pipeline(steps = [('tax_merger', Merger('tax', 'tax(£)')),\n",
    "                                 ('mapper', mapper),\n",
    "                                 ('elasticnet', ElasticNet(alpha=params['alpha'], l1_ratio=params['l1_ratio']))])\n",
    "    \n",
    "    pipe_reg.fit(X_train, y_train)\n",
    "   \n",
    "    results.append(dict(alpha=params['alpha'],\n",
    "                        l1_ratio=params['l1_ratio'],\n",
    "                        train_score=mean_squared_error(y_train,\n",
    "                                                       pipe_reg.predict(X_train), \n",
    "                                                       squared=False),\n",
    "        \n",
    "                        test_score=mean_squared_error(y_test,\n",
    "                                                      pipe_reg.predict(X_test), \n",
    "                                                      squared=False)\n",
    "    ))"
   ]
  },
  {
   "cell_type": "code",
   "execution_count": 11,
   "id": "dc0ccfda",
   "metadata": {
    "scrolled": true
   },
   "outputs": [
    {
     "data": {
      "text/html": [
       "<style  type=\"text/css\" >\n",
       "#T_523eb_row0_col2{\n",
       "            width:  10em;\n",
       "             height:  80%;\n",
       "            background:  linear-gradient(90deg,#d65f5f 56.9%, transparent 56.9%);\n",
       "        }#T_523eb_row0_col3{\n",
       "            width:  10em;\n",
       "             height:  80%;\n",
       "            background:  linear-gradient(90deg,#d65f5f 54.8%, transparent 54.8%);\n",
       "        }#T_523eb_row1_col2{\n",
       "            width:  10em;\n",
       "             height:  80%;\n",
       "            background:  linear-gradient(90deg,#d65f5f 57.0%, transparent 57.0%);\n",
       "        }#T_523eb_row1_col3,#T_523eb_row2_col3{\n",
       "            width:  10em;\n",
       "             height:  80%;\n",
       "            background:  linear-gradient(90deg,#d65f5f 54.9%, transparent 54.9%);\n",
       "        }#T_523eb_row2_col2{\n",
       "            width:  10em;\n",
       "             height:  80%;\n",
       "            background:  linear-gradient(90deg,#d65f5f 57.1%, transparent 57.1%);\n",
       "        }#T_523eb_row3_col2{\n",
       "            width:  10em;\n",
       "             height:  80%;\n",
       "            background:  linear-gradient(90deg,#d65f5f 57.3%, transparent 57.3%);\n",
       "        }#T_523eb_row3_col3{\n",
       "            width:  10em;\n",
       "             height:  80%;\n",
       "            background:  linear-gradient(90deg,#d65f5f 55.1%, transparent 55.1%);\n",
       "        }#T_523eb_row4_col2{\n",
       "            width:  10em;\n",
       "             height:  80%;\n",
       "            background:  linear-gradient(90deg,#d65f5f 57.4%, transparent 57.4%);\n",
       "        }#T_523eb_row4_col3{\n",
       "            width:  10em;\n",
       "             height:  80%;\n",
       "            background:  linear-gradient(90deg,#d65f5f 55.2%, transparent 55.2%);\n",
       "        }#T_523eb_row5_col2{\n",
       "            width:  10em;\n",
       "             height:  80%;\n",
       "            background:  linear-gradient(90deg,#d65f5f 70.9%, transparent 70.9%);\n",
       "        }#T_523eb_row5_col3{\n",
       "            width:  10em;\n",
       "             height:  80%;\n",
       "            background:  linear-gradient(90deg,#d65f5f 69.9%, transparent 69.9%);\n",
       "        }#T_523eb_row6_col2{\n",
       "            width:  10em;\n",
       "             height:  80%;\n",
       "            background:  linear-gradient(90deg,#d65f5f 73.1%, transparent 73.1%);\n",
       "        }#T_523eb_row6_col3{\n",
       "            width:  10em;\n",
       "             height:  80%;\n",
       "            background:  linear-gradient(90deg,#d65f5f 72.3%, transparent 72.3%);\n",
       "        }#T_523eb_row7_col2{\n",
       "            width:  10em;\n",
       "             height:  80%;\n",
       "            background:  linear-gradient(90deg,#d65f5f 74.7%, transparent 74.7%);\n",
       "        }#T_523eb_row7_col3{\n",
       "            width:  10em;\n",
       "             height:  80%;\n",
       "            background:  linear-gradient(90deg,#d65f5f 74.0%, transparent 74.0%);\n",
       "        }#T_523eb_row8_col2{\n",
       "            width:  10em;\n",
       "             height:  80%;\n",
       "            background:  linear-gradient(90deg,#d65f5f 75.1%, transparent 75.1%);\n",
       "        }#T_523eb_row8_col3{\n",
       "            width:  10em;\n",
       "             height:  80%;\n",
       "            background:  linear-gradient(90deg,#d65f5f 74.4%, transparent 74.4%);\n",
       "        }#T_523eb_row9_col2{\n",
       "            width:  10em;\n",
       "             height:  80%;\n",
       "            background:  linear-gradient(90deg,#d65f5f 76.1%, transparent 76.1%);\n",
       "        }#T_523eb_row9_col3{\n",
       "            width:  10em;\n",
       "             height:  80%;\n",
       "            background:  linear-gradient(90deg,#d65f5f 75.5%, transparent 75.5%);\n",
       "        }#T_523eb_row10_col2{\n",
       "            width:  10em;\n",
       "             height:  80%;\n",
       "            background:  linear-gradient(90deg,#d65f5f 78.0%, transparent 78.0%);\n",
       "        }#T_523eb_row10_col3{\n",
       "            width:  10em;\n",
       "             height:  80%;\n",
       "            background:  linear-gradient(90deg,#d65f5f 77.5%, transparent 77.5%);\n",
       "        }#T_523eb_row11_col2{\n",
       "            width:  10em;\n",
       "             height:  80%;\n",
       "            background:  linear-gradient(90deg,#d65f5f 79.2%, transparent 79.2%);\n",
       "        }#T_523eb_row11_col3{\n",
       "            width:  10em;\n",
       "             height:  80%;\n",
       "            background:  linear-gradient(90deg,#d65f5f 78.7%, transparent 78.7%);\n",
       "        }#T_523eb_row12_col2{\n",
       "            width:  10em;\n",
       "             height:  80%;\n",
       "            background:  linear-gradient(90deg,#d65f5f 80.5%, transparent 80.5%);\n",
       "        }#T_523eb_row12_col3{\n",
       "            width:  10em;\n",
       "             height:  80%;\n",
       "            background:  linear-gradient(90deg,#d65f5f 80.1%, transparent 80.1%);\n",
       "        }#T_523eb_row13_col2{\n",
       "            width:  10em;\n",
       "             height:  80%;\n",
       "            background:  linear-gradient(90deg,#d65f5f 82.5%, transparent 82.5%);\n",
       "        }#T_523eb_row13_col3{\n",
       "            width:  10em;\n",
       "             height:  80%;\n",
       "            background:  linear-gradient(90deg,#d65f5f 82.1%, transparent 82.1%);\n",
       "        }#T_523eb_row14_col2{\n",
       "            width:  10em;\n",
       "             height:  80%;\n",
       "            background:  linear-gradient(90deg,#d65f5f 82.8%, transparent 82.8%);\n",
       "        }#T_523eb_row14_col3{\n",
       "            width:  10em;\n",
       "             height:  80%;\n",
       "            background:  linear-gradient(90deg,#d65f5f 82.4%, transparent 82.4%);\n",
       "        }#T_523eb_row15_col2{\n",
       "            width:  10em;\n",
       "             height:  80%;\n",
       "            background:  linear-gradient(90deg,#d65f5f 83.6%, transparent 83.6%);\n",
       "        }#T_523eb_row15_col3{\n",
       "            width:  10em;\n",
       "             height:  80%;\n",
       "            background:  linear-gradient(90deg,#d65f5f 83.3%, transparent 83.3%);\n",
       "        }#T_523eb_row16_col2{\n",
       "            width:  10em;\n",
       "             height:  80%;\n",
       "            background:  linear-gradient(90deg,#d65f5f 85.4%, transparent 85.4%);\n",
       "        }#T_523eb_row16_col3{\n",
       "            width:  10em;\n",
       "             height:  80%;\n",
       "            background:  linear-gradient(90deg,#d65f5f 85.1%, transparent 85.1%);\n",
       "        }#T_523eb_row17_col2{\n",
       "            width:  10em;\n",
       "             height:  80%;\n",
       "            background:  linear-gradient(90deg,#d65f5f 87.3%, transparent 87.3%);\n",
       "        }#T_523eb_row17_col3{\n",
       "            width:  10em;\n",
       "             height:  80%;\n",
       "            background:  linear-gradient(90deg,#d65f5f 87.1%, transparent 87.1%);\n",
       "        }#T_523eb_row18_col2{\n",
       "            width:  10em;\n",
       "             height:  80%;\n",
       "            background:  linear-gradient(90deg,#d65f5f 88.0%, transparent 88.0%);\n",
       "        }#T_523eb_row18_col3{\n",
       "            width:  10em;\n",
       "             height:  80%;\n",
       "            background:  linear-gradient(90deg,#d65f5f 87.8%, transparent 87.8%);\n",
       "        }#T_523eb_row19_col2{\n",
       "            width:  10em;\n",
       "             height:  80%;\n",
       "            background:  linear-gradient(90deg,#d65f5f 90.4%, transparent 90.4%);\n",
       "        }#T_523eb_row19_col3{\n",
       "            width:  10em;\n",
       "             height:  80%;\n",
       "            background:  linear-gradient(90deg,#d65f5f 90.3%, transparent 90.3%);\n",
       "        }#T_523eb_row20_col2{\n",
       "            width:  10em;\n",
       "             height:  80%;\n",
       "            background:  linear-gradient(90deg,#d65f5f 91.7%, transparent 91.7%);\n",
       "        }#T_523eb_row20_col3{\n",
       "            width:  10em;\n",
       "             height:  80%;\n",
       "            background:  linear-gradient(90deg,#d65f5f 91.5%, transparent 91.5%);\n",
       "        }#T_523eb_row21_col2{\n",
       "            width:  10em;\n",
       "             height:  80%;\n",
       "            background:  linear-gradient(90deg,#d65f5f 92.4%, transparent 92.4%);\n",
       "        }#T_523eb_row21_col3{\n",
       "            width:  10em;\n",
       "             height:  80%;\n",
       "            background:  linear-gradient(90deg,#d65f5f 92.3%, transparent 92.3%);\n",
       "        }#T_523eb_row22_col2{\n",
       "            width:  10em;\n",
       "             height:  80%;\n",
       "            background:  linear-gradient(90deg,#d65f5f 95.9%, transparent 95.9%);\n",
       "        }#T_523eb_row22_col3{\n",
       "            width:  10em;\n",
       "             height:  80%;\n",
       "            background:  linear-gradient(90deg,#d65f5f 95.8%, transparent 95.8%);\n",
       "        }#T_523eb_row23_col2{\n",
       "            width:  10em;\n",
       "             height:  80%;\n",
       "            background:  linear-gradient(90deg,#d65f5f 96.4%, transparent 96.4%);\n",
       "        }#T_523eb_row23_col3{\n",
       "            width:  10em;\n",
       "             height:  80%;\n",
       "            background:  linear-gradient(90deg,#d65f5f 96.3%, transparent 96.3%);\n",
       "        }#T_523eb_row24_col2,#T_523eb_row24_col3{\n",
       "            width:  10em;\n",
       "             height:  80%;\n",
       "            background:  linear-gradient(90deg,#d65f5f 100.0%, transparent 100.0%);\n",
       "        }</style><table id=\"T_523eb_\" ><thead>    <tr>        <th class=\"blank level0\" ></th>        <th class=\"col_heading level0 col0\" >alpha</th>        <th class=\"col_heading level0 col1\" >l1_ratio</th>        <th class=\"col_heading level0 col2\" >train_score</th>        <th class=\"col_heading level0 col3\" >test_score</th>    </tr></thead><tbody>\n",
       "                <tr>\n",
       "                        <th id=\"T_523eb_level0_row0\" class=\"row_heading level0 row0\" >4</th>\n",
       "                        <td id=\"T_523eb_row0_col0\" class=\"data row0 col0\" >0.100000</td>\n",
       "                        <td id=\"T_523eb_row0_col1\" class=\"data row0 col1\" >1.000000</td>\n",
       "                        <td id=\"T_523eb_row0_col2\" class=\"data row0 col2\" >3703.387240</td>\n",
       "                        <td id=\"T_523eb_row0_col3\" class=\"data row0 col3\" >3541.713179</td>\n",
       "            </tr>\n",
       "            <tr>\n",
       "                        <th id=\"T_523eb_level0_row1\" class=\"row_heading level0 row1\" >9</th>\n",
       "                        <td id=\"T_523eb_row1_col0\" class=\"data row1 col0\" >0.325000</td>\n",
       "                        <td id=\"T_523eb_row1_col1\" class=\"data row1 col1\" >1.000000</td>\n",
       "                        <td id=\"T_523eb_row1_col2\" class=\"data row1 col2\" >3709.243804</td>\n",
       "                        <td id=\"T_523eb_row1_col3\" class=\"data row1 col3\" >3544.705675</td>\n",
       "            </tr>\n",
       "            <tr>\n",
       "                        <th id=\"T_523eb_level0_row2\" class=\"row_heading level0 row2\" >14</th>\n",
       "                        <td id=\"T_523eb_row2_col0\" class=\"data row2 col0\" >0.550000</td>\n",
       "                        <td id=\"T_523eb_row2_col1\" class=\"data row2 col1\" >1.000000</td>\n",
       "                        <td id=\"T_523eb_row2_col2\" class=\"data row2 col2\" >3716.100199</td>\n",
       "                        <td id=\"T_523eb_row2_col3\" class=\"data row2 col3\" >3550.375602</td>\n",
       "            </tr>\n",
       "            <tr>\n",
       "                        <th id=\"T_523eb_level0_row3\" class=\"row_heading level0 row3\" >19</th>\n",
       "                        <td id=\"T_523eb_row3_col0\" class=\"data row3 col0\" >0.775000</td>\n",
       "                        <td id=\"T_523eb_row3_col1\" class=\"data row3 col1\" >1.000000</td>\n",
       "                        <td id=\"T_523eb_row3_col2\" class=\"data row3 col2\" >3724.310682</td>\n",
       "                        <td id=\"T_523eb_row3_col3\" class=\"data row3 col3\" >3557.823544</td>\n",
       "            </tr>\n",
       "            <tr>\n",
       "                        <th id=\"T_523eb_level0_row4\" class=\"row_heading level0 row4\" >24</th>\n",
       "                        <td id=\"T_523eb_row4_col0\" class=\"data row4 col0\" >1.000000</td>\n",
       "                        <td id=\"T_523eb_row4_col1\" class=\"data row4 col1\" >1.000000</td>\n",
       "                        <td id=\"T_523eb_row4_col2\" class=\"data row4 col2\" >3732.341945</td>\n",
       "                        <td id=\"T_523eb_row4_col3\" class=\"data row4 col3\" >3566.911890</td>\n",
       "            </tr>\n",
       "            <tr>\n",
       "                        <th id=\"T_523eb_level0_row5\" class=\"row_heading level0 row5\" >3</th>\n",
       "                        <td id=\"T_523eb_row5_col0\" class=\"data row5 col0\" >0.100000</td>\n",
       "                        <td id=\"T_523eb_row5_col1\" class=\"data row5 col1\" >0.750000</td>\n",
       "                        <td id=\"T_523eb_row5_col2\" class=\"data row5 col2\" >4610.532016</td>\n",
       "                        <td id=\"T_523eb_row5_col3\" class=\"data row5 col3\" >4516.434222</td>\n",
       "            </tr>\n",
       "            <tr>\n",
       "                        <th id=\"T_523eb_level0_row6\" class=\"row_heading level0 row6\" >2</th>\n",
       "                        <td id=\"T_523eb_row6_col0\" class=\"data row6 col0\" >0.100000</td>\n",
       "                        <td id=\"T_523eb_row6_col1\" class=\"data row6 col1\" >0.500000</td>\n",
       "                        <td id=\"T_523eb_row6_col2\" class=\"data row6 col2\" >4753.196112</td>\n",
       "                        <td id=\"T_523eb_row6_col3\" class=\"data row6 col3\" >4669.366973</td>\n",
       "            </tr>\n",
       "            <tr>\n",
       "                        <th id=\"T_523eb_level0_row7\" class=\"row_heading level0 row7\" >1</th>\n",
       "                        <td id=\"T_523eb_row7_col0\" class=\"data row7 col0\" >0.100000</td>\n",
       "                        <td id=\"T_523eb_row7_col1\" class=\"data row7 col1\" >0.250000</td>\n",
       "                        <td id=\"T_523eb_row7_col2\" class=\"data row7 col2\" >4859.590887</td>\n",
       "                        <td id=\"T_523eb_row7_col3\" class=\"data row7 col3\" >4781.981161</td>\n",
       "            </tr>\n",
       "            <tr>\n",
       "                        <th id=\"T_523eb_level0_row8\" class=\"row_heading level0 row8\" >8</th>\n",
       "                        <td id=\"T_523eb_row8_col0\" class=\"data row8 col0\" >0.325000</td>\n",
       "                        <td id=\"T_523eb_row8_col1\" class=\"data row8 col1\" >0.750000</td>\n",
       "                        <td id=\"T_523eb_row8_col2\" class=\"data row8 col2\" >4884.433227</td>\n",
       "                        <td id=\"T_523eb_row8_col3\" class=\"data row8 col3\" >4808.135764</td>\n",
       "            </tr>\n",
       "            <tr>\n",
       "                        <th id=\"T_523eb_level0_row9\" class=\"row_heading level0 row9\" >0</th>\n",
       "                        <td id=\"T_523eb_row9_col0\" class=\"data row9 col0\" >0.100000</td>\n",
       "                        <td id=\"T_523eb_row9_col1\" class=\"data row9 col1\" >0.000000</td>\n",
       "                        <td id=\"T_523eb_row9_col2\" class=\"data row9 col2\" >4951.723395</td>\n",
       "                        <td id=\"T_523eb_row9_col3\" class=\"data row9 col3\" >4878.691200</td>\n",
       "            </tr>\n",
       "            <tr>\n",
       "                        <th id=\"T_523eb_level0_row10\" class=\"row_heading level0 row10\" >13</th>\n",
       "                        <td id=\"T_523eb_row10_col0\" class=\"data row10 col0\" >0.550000</td>\n",
       "                        <td id=\"T_523eb_row10_col1\" class=\"data row10 col1\" >0.750000</td>\n",
       "                        <td id=\"T_523eb_row10_col2\" class=\"data row10 col2\" >5075.652353</td>\n",
       "                        <td id=\"T_523eb_row10_col3\" class=\"data row10 col3\" >5007.836418</td>\n",
       "            </tr>\n",
       "            <tr>\n",
       "                        <th id=\"T_523eb_level0_row11\" class=\"row_heading level0 row11\" >7</th>\n",
       "                        <td id=\"T_523eb_row11_col0\" class=\"data row11 col0\" >0.325000</td>\n",
       "                        <td id=\"T_523eb_row11_col1\" class=\"data row11 col1\" >0.500000</td>\n",
       "                        <td id=\"T_523eb_row11_col2\" class=\"data row11 col2\" >5149.732412</td>\n",
       "                        <td id=\"T_523eb_row11_col3\" class=\"data row11 col3\" >5084.600979</td>\n",
       "            </tr>\n",
       "            <tr>\n",
       "                        <th id=\"T_523eb_level0_row12\" class=\"row_heading level0 row12\" >18</th>\n",
       "                        <td id=\"T_523eb_row12_col0\" class=\"data row12 col0\" >0.775000</td>\n",
       "                        <td id=\"T_523eb_row12_col1\" class=\"data row12 col1\" >0.750000</td>\n",
       "                        <td id=\"T_523eb_row12_col2\" class=\"data row12 col2\" >5237.907560</td>\n",
       "                        <td id=\"T_523eb_row12_col3\" class=\"data row12 col3\" >5175.641929</td>\n",
       "            </tr>\n",
       "            <tr>\n",
       "                        <th id=\"T_523eb_level0_row13\" class=\"row_heading level0 row13\" >6</th>\n",
       "                        <td id=\"T_523eb_row13_col0\" class=\"data row13 col0\" >0.325000</td>\n",
       "                        <td id=\"T_523eb_row13_col1\" class=\"data row13 col1\" >0.250000</td>\n",
       "                        <td id=\"T_523eb_row13_col2\" class=\"data row13 col2\" >5365.287169</td>\n",
       "                        <td id=\"T_523eb_row13_col3\" class=\"data row13 col3\" >5306.575659</td>\n",
       "            </tr>\n",
       "            <tr>\n",
       "                        <th id=\"T_523eb_level0_row14\" class=\"row_heading level0 row14\" >23</th>\n",
       "                        <td id=\"T_523eb_row14_col0\" class=\"data row14 col0\" >1.000000</td>\n",
       "                        <td id=\"T_523eb_row14_col1\" class=\"data row14 col1\" >0.750000</td>\n",
       "                        <td id=\"T_523eb_row14_col2\" class=\"data row14 col2\" >5381.766562</td>\n",
       "                        <td id=\"T_523eb_row14_col3\" class=\"data row14 col3\" >5323.482996</td>\n",
       "            </tr>\n",
       "            <tr>\n",
       "                        <th id=\"T_523eb_level0_row15\" class=\"row_heading level0 row15\" >12</th>\n",
       "                        <td id=\"T_523eb_row15_col0\" class=\"data row15 col0\" >0.550000</td>\n",
       "                        <td id=\"T_523eb_row15_col1\" class=\"data row15 col1\" >0.500000</td>\n",
       "                        <td id=\"T_523eb_row15_col2\" class=\"data row15 col2\" >5440.091659</td>\n",
       "                        <td id=\"T_523eb_row15_col3\" class=\"data row15 col3\" >5383.227607</td>\n",
       "            </tr>\n",
       "            <tr>\n",
       "                        <th id=\"T_523eb_level0_row16\" class=\"row_heading level0 row16\" >5</th>\n",
       "                        <td id=\"T_523eb_row16_col0\" class=\"data row16 col0\" >0.325000</td>\n",
       "                        <td id=\"T_523eb_row16_col1\" class=\"data row16 col1\" >0.000000</td>\n",
       "                        <td id=\"T_523eb_row16_col2\" class=\"data row16 col2\" >5550.887894</td>\n",
       "                        <td id=\"T_523eb_row16_col3\" class=\"data row16 col3\" >5496.472133</td>\n",
       "            </tr>\n",
       "            <tr>\n",
       "                        <th id=\"T_523eb_level0_row17\" class=\"row_heading level0 row17\" >17</th>\n",
       "                        <td id=\"T_523eb_row17_col0\" class=\"data row17 col0\" >0.775000</td>\n",
       "                        <td id=\"T_523eb_row17_col1\" class=\"data row17 col1\" >0.500000</td>\n",
       "                        <td id=\"T_523eb_row17_col2\" class=\"data row17 col2\" >5678.963555</td>\n",
       "                        <td id=\"T_523eb_row17_col3\" class=\"data row17 col3\" >5627.030052</td>\n",
       "            </tr>\n",
       "            <tr>\n",
       "                        <th id=\"T_523eb_level0_row18\" class=\"row_heading level0 row18\" >11</th>\n",
       "                        <td id=\"T_523eb_row18_col0\" class=\"data row18 col0\" >0.550000</td>\n",
       "                        <td id=\"T_523eb_row18_col1\" class=\"data row18 col1\" >0.250000</td>\n",
       "                        <td id=\"T_523eb_row18_col2\" class=\"data row18 col2\" >5726.307398</td>\n",
       "                        <td id=\"T_523eb_row18_col3\" class=\"data row18 col3\" >5675.206060</td>\n",
       "            </tr>\n",
       "            <tr>\n",
       "                        <th id=\"T_523eb_level0_row19\" class=\"row_heading level0 row19\" >22</th>\n",
       "                        <td id=\"T_523eb_row19_col0\" class=\"data row19 col0\" >1.000000</td>\n",
       "                        <td id=\"T_523eb_row19_col1\" class=\"data row19 col1\" >0.500000</td>\n",
       "                        <td id=\"T_523eb_row19_col2\" class=\"data row19 col2\" >5881.398014</td>\n",
       "                        <td id=\"T_523eb_row19_col3\" class=\"data row19 col3\" >5832.768959</td>\n",
       "            </tr>\n",
       "            <tr>\n",
       "                        <th id=\"T_523eb_level0_row20\" class=\"row_heading level0 row20\" >10</th>\n",
       "                        <td id=\"T_523eb_row20_col0\" class=\"data row20 col0\" >0.550000</td>\n",
       "                        <td id=\"T_523eb_row20_col1\" class=\"data row20 col1\" >0.000000</td>\n",
       "                        <td id=\"T_523eb_row20_col2\" class=\"data row20 col2\" >5961.075617</td>\n",
       "                        <td id=\"T_523eb_row20_col3\" class=\"data row20 col3\" >5913.574702</td>\n",
       "            </tr>\n",
       "            <tr>\n",
       "                        <th id=\"T_523eb_level0_row21\" class=\"row_heading level0 row21\" >16</th>\n",
       "                        <td id=\"T_523eb_row21_col0\" class=\"data row21 col0\" >0.775000</td>\n",
       "                        <td id=\"T_523eb_row21_col1\" class=\"data row21 col1\" >0.250000</td>\n",
       "                        <td id=\"T_523eb_row21_col2\" class=\"data row21 col2\" >6009.052579</td>\n",
       "                        <td id=\"T_523eb_row21_col3\" class=\"data row21 col3\" >5962.194078</td>\n",
       "            </tr>\n",
       "            <tr>\n",
       "                        <th id=\"T_523eb_level0_row22\" class=\"row_heading level0 row22\" >21</th>\n",
       "                        <td id=\"T_523eb_row22_col0\" class=\"data row22 col0\" >1.000000</td>\n",
       "                        <td id=\"T_523eb_row22_col1\" class=\"data row22 col1\" >0.250000</td>\n",
       "                        <td id=\"T_523eb_row22_col2\" class=\"data row22 col2\" >6237.125659</td>\n",
       "                        <td id=\"T_523eb_row22_col3\" class=\"data row22 col3\" >6192.960607</td>\n",
       "            </tr>\n",
       "            <tr>\n",
       "                        <th id=\"T_523eb_level0_row23\" class=\"row_heading level0 row23\" >15</th>\n",
       "                        <td id=\"T_523eb_row23_col0\" class=\"data row23 col0\" >0.775000</td>\n",
       "                        <td id=\"T_523eb_row23_col1\" class=\"data row23 col1\" >0.000000</td>\n",
       "                        <td id=\"T_523eb_row23_col2\" class=\"data row23 col2\" >6266.868347</td>\n",
       "                        <td id=\"T_523eb_row23_col3\" class=\"data row23 col3\" >6223.015102</td>\n",
       "            </tr>\n",
       "            <tr>\n",
       "                        <th id=\"T_523eb_level0_row24\" class=\"row_heading level0 row24\" >20</th>\n",
       "                        <td id=\"T_523eb_row24_col0\" class=\"data row24 col0\" >1.000000</td>\n",
       "                        <td id=\"T_523eb_row24_col1\" class=\"data row24 col1\" >0.000000</td>\n",
       "                        <td id=\"T_523eb_row24_col2\" class=\"data row24 col2\" >6503.602224</td>\n",
       "                        <td id=\"T_523eb_row24_col3\" class=\"data row24 col3\" >6461.963181</td>\n",
       "            </tr>\n",
       "    </tbody></table>"
      ],
      "text/plain": [
       "<pandas.io.formats.style.Styler at 0x7fafe6db7820>"
      ]
     },
     "execution_count": 11,
     "metadata": {},
     "output_type": "execute_result"
    }
   ],
   "source": [
    "res = pd.DataFrame(results)\n",
    "res.sort_values('test_score').style.bar(subset=['train_score', 'test_score'], vmin=0)"
   ]
  },
  {
   "cell_type": "markdown",
   "id": "76cb567d",
   "metadata": {},
   "source": [
    "<b>First five best models have l1_ratio equal to 1 and lead by a large margin, so it seems reasonable to use Lasso regressor further.</b>"
   ]
  },
  {
   "cell_type": "markdown",
   "id": "502f37e5",
   "metadata": {},
   "source": [
    "## Adding Polynomial Features to Lasso Regressor"
   ]
  },
  {
   "cell_type": "code",
   "execution_count": 12,
   "id": "65550c0d",
   "metadata": {
    "scrolled": false
   },
   "outputs": [
    {
     "data": {
      "text/plain": [
       "{'max_degree': [3, 4, 5], 'alpha': [0.1, 0.325, 0.55, 0.775, 1.0]}"
      ]
     },
     "execution_count": 12,
     "metadata": {},
     "output_type": "execute_result"
    }
   ],
   "source": [
    "param_grid = dict(max_degree=[3, 4, 5], \n",
    "                  alpha=np.linspace(0.1, 1, 5).tolist())\n",
    "param_grid"
   ]
  },
  {
   "cell_type": "code",
   "execution_count": 13,
   "id": "b1ee63a7",
   "metadata": {
    "scrolled": false
   },
   "outputs": [
    {
     "name": "stdout",
     "output_type": "stream",
     "text": [
      "{'alpha': 0.1, 'max_degree': 3}\n",
      "{'alpha': 0.1, 'max_degree': 4}\n",
      "{'alpha': 0.1, 'max_degree': 5}\n",
      "{'alpha': 0.325, 'max_degree': 3}\n",
      "{'alpha': 0.325, 'max_degree': 4}\n",
      "{'alpha': 0.325, 'max_degree': 5}\n",
      "{'alpha': 0.55, 'max_degree': 3}\n",
      "{'alpha': 0.55, 'max_degree': 4}\n",
      "{'alpha': 0.55, 'max_degree': 5}\n",
      "{'alpha': 0.775, 'max_degree': 3}\n",
      "{'alpha': 0.775, 'max_degree': 4}\n",
      "{'alpha': 0.775, 'max_degree': 5}\n",
      "{'alpha': 1.0, 'max_degree': 3}\n",
      "{'alpha': 1.0, 'max_degree': 4}\n",
      "{'alpha': 1.0, 'max_degree': 5}\n"
     ]
    }
   ],
   "source": [
    "results = []\n",
    "\n",
    "for params in ParameterGrid(param_grid):\n",
    "    print(params)\n",
    "    \n",
    "    pipe_reg = Pipeline(steps = [('tax_merger', Merger('tax', 'tax(£)')),\n",
    "                                 ('mapper', mapper),\n",
    "                                 ('poly', ColumnTransformer([(\"poly\", PolynomialFeatures(degree=params['max_degree']), slice(0, 5))], remainder='passthrough')),\n",
    "                                 ('lassoreg', Lasso(alpha=params['alpha']))])\n",
    "    \n",
    "    pipe_reg.fit(X_train, y_train)\n",
    "   \n",
    "    results.append(dict(max_degree=params['max_degree'],\n",
    "                        alpha=params['alpha'],\n",
    "                        train_score=mean_squared_error(y_train,\n",
    "                                                       pipe_reg.predict(X_train), \n",
    "                                                       squared=False),\n",
    "        \n",
    "                        test_score=mean_squared_error(y_test,\n",
    "                                                      pipe_reg.predict(X_test), \n",
    "                                                      squared=False)\n",
    "    ))"
   ]
  },
  {
   "cell_type": "code",
   "execution_count": 14,
   "id": "d928ae3e",
   "metadata": {
    "scrolled": true
   },
   "outputs": [
    {
     "data": {
      "text/html": [
       "<style  type=\"text/css\" >\n",
       "#T_37d0c_row0_col2{\n",
       "            width:  10em;\n",
       "             height:  80%;\n",
       "            background:  linear-gradient(90deg,#d65f5f 96.6%, transparent 96.6%);\n",
       "        }#T_37d0c_row0_col3{\n",
       "            width:  10em;\n",
       "             height:  80%;\n",
       "            background:  linear-gradient(90deg,#d65f5f 95.8%, transparent 95.8%);\n",
       "        }#T_37d0c_row1_col2{\n",
       "            width:  10em;\n",
       "             height:  80%;\n",
       "            background:  linear-gradient(90deg,#d65f5f 96.8%, transparent 96.8%);\n",
       "        }#T_37d0c_row1_col3,#T_37d0c_row14_col2{\n",
       "            width:  10em;\n",
       "             height:  80%;\n",
       "            background:  linear-gradient(90deg,#d65f5f 96.0%, transparent 96.0%);\n",
       "        }#T_37d0c_row2_col2{\n",
       "            width:  10em;\n",
       "             height:  80%;\n",
       "            background:  linear-gradient(90deg,#d65f5f 97.0%, transparent 97.0%);\n",
       "        }#T_37d0c_row2_col3{\n",
       "            width:  10em;\n",
       "             height:  80%;\n",
       "            background:  linear-gradient(90deg,#d65f5f 96.3%, transparent 96.3%);\n",
       "        }#T_37d0c_row3_col2{\n",
       "            width:  10em;\n",
       "             height:  80%;\n",
       "            background:  linear-gradient(90deg,#d65f5f 97.3%, transparent 97.3%);\n",
       "        }#T_37d0c_row3_col3{\n",
       "            width:  10em;\n",
       "             height:  80%;\n",
       "            background:  linear-gradient(90deg,#d65f5f 96.7%, transparent 96.7%);\n",
       "        }#T_37d0c_row4_col2{\n",
       "            width:  10em;\n",
       "             height:  80%;\n",
       "            background:  linear-gradient(90deg,#d65f5f 97.6%, transparent 97.6%);\n",
       "        }#T_37d0c_row4_col3{\n",
       "            width:  10em;\n",
       "             height:  80%;\n",
       "            background:  linear-gradient(90deg,#d65f5f 97.1%, transparent 97.1%);\n",
       "        }#T_37d0c_row5_col2,#T_37d0c_row10_col3{\n",
       "            width:  10em;\n",
       "             height:  80%;\n",
       "            background:  linear-gradient(90deg,#d65f5f 98.9%, transparent 98.9%);\n",
       "        }#T_37d0c_row5_col3{\n",
       "            width:  10em;\n",
       "             height:  80%;\n",
       "            background:  linear-gradient(90deg,#d65f5f 98.0%, transparent 98.0%);\n",
       "        }#T_37d0c_row6_col2,#T_37d0c_row11_col3{\n",
       "            width:  10em;\n",
       "             height:  80%;\n",
       "            background:  linear-gradient(90deg,#d65f5f 99.1%, transparent 99.1%);\n",
       "        }#T_37d0c_row6_col3{\n",
       "            width:  10em;\n",
       "             height:  80%;\n",
       "            background:  linear-gradient(90deg,#d65f5f 98.2%, transparent 98.2%);\n",
       "        }#T_37d0c_row7_col2{\n",
       "            width:  10em;\n",
       "             height:  80%;\n",
       "            background:  linear-gradient(90deg,#d65f5f 95.0%, transparent 95.0%);\n",
       "        }#T_37d0c_row7_col3{\n",
       "            width:  10em;\n",
       "             height:  80%;\n",
       "            background:  linear-gradient(90deg,#d65f5f 98.4%, transparent 98.4%);\n",
       "        }#T_37d0c_row8_col2{\n",
       "            width:  10em;\n",
       "             height:  80%;\n",
       "            background:  linear-gradient(90deg,#d65f5f 99.4%, transparent 99.4%);\n",
       "        }#T_37d0c_row8_col3{\n",
       "            width:  10em;\n",
       "             height:  80%;\n",
       "            background:  linear-gradient(90deg,#d65f5f 98.6%, transparent 98.6%);\n",
       "        }#T_37d0c_row9_col2{\n",
       "            width:  10em;\n",
       "             height:  80%;\n",
       "            background:  linear-gradient(90deg,#d65f5f 95.2%, transparent 95.2%);\n",
       "        }#T_37d0c_row9_col3{\n",
       "            width:  10em;\n",
       "             height:  80%;\n",
       "            background:  linear-gradient(90deg,#d65f5f 98.7%, transparent 98.7%);\n",
       "        }#T_37d0c_row10_col2{\n",
       "            width:  10em;\n",
       "             height:  80%;\n",
       "            background:  linear-gradient(90deg,#d65f5f 99.7%, transparent 99.7%);\n",
       "        }#T_37d0c_row11_col2{\n",
       "            width:  10em;\n",
       "             height:  80%;\n",
       "            background:  linear-gradient(90deg,#d65f5f 95.4%, transparent 95.4%);\n",
       "        }#T_37d0c_row12_col2,#T_37d0c_row14_col3{\n",
       "            width:  10em;\n",
       "             height:  80%;\n",
       "            background:  linear-gradient(90deg,#d65f5f 100.0%, transparent 100.0%);\n",
       "        }#T_37d0c_row12_col3{\n",
       "            width:  10em;\n",
       "             height:  80%;\n",
       "            background:  linear-gradient(90deg,#d65f5f 99.3%, transparent 99.3%);\n",
       "        }#T_37d0c_row13_col2{\n",
       "            width:  10em;\n",
       "             height:  80%;\n",
       "            background:  linear-gradient(90deg,#d65f5f 95.7%, transparent 95.7%);\n",
       "        }#T_37d0c_row13_col3{\n",
       "            width:  10em;\n",
       "             height:  80%;\n",
       "            background:  linear-gradient(90deg,#d65f5f 99.6%, transparent 99.6%);\n",
       "        }</style><table id=\"T_37d0c_\" ><thead>    <tr>        <th class=\"blank level0\" ></th>        <th class=\"col_heading level0 col0\" >max_degree</th>        <th class=\"col_heading level0 col1\" >alpha</th>        <th class=\"col_heading level0 col2\" >train_score</th>        <th class=\"col_heading level0 col3\" >test_score</th>    </tr></thead><tbody>\n",
       "                <tr>\n",
       "                        <th id=\"T_37d0c_level0_row0\" class=\"row_heading level0 row0\" >1</th>\n",
       "                        <td id=\"T_37d0c_row0_col0\" class=\"data row0 col0\" >4</td>\n",
       "                        <td id=\"T_37d0c_row0_col1\" class=\"data row0 col1\" >0.100000</td>\n",
       "                        <td id=\"T_37d0c_row0_col2\" class=\"data row0 col2\" >2884.334620</td>\n",
       "                        <td id=\"T_37d0c_row0_col3\" class=\"data row0 col3\" >2750.862942</td>\n",
       "            </tr>\n",
       "            <tr>\n",
       "                        <th id=\"T_37d0c_level0_row1\" class=\"row_heading level0 row1\" >4</th>\n",
       "                        <td id=\"T_37d0c_row1_col0\" class=\"data row1 col0\" >4</td>\n",
       "                        <td id=\"T_37d0c_row1_col1\" class=\"data row1 col1\" >0.325000</td>\n",
       "                        <td id=\"T_37d0c_row1_col2\" class=\"data row1 col2\" >2889.859512</td>\n",
       "                        <td id=\"T_37d0c_row1_col3\" class=\"data row1 col3\" >2757.235921</td>\n",
       "            </tr>\n",
       "            <tr>\n",
       "                        <th id=\"T_37d0c_level0_row2\" class=\"row_heading level0 row2\" >7</th>\n",
       "                        <td id=\"T_37d0c_row2_col0\" class=\"data row2 col0\" >4</td>\n",
       "                        <td id=\"T_37d0c_row2_col1\" class=\"data row2 col1\" >0.550000</td>\n",
       "                        <td id=\"T_37d0c_row2_col2\" class=\"data row2 col2\" >2896.578740</td>\n",
       "                        <td id=\"T_37d0c_row2_col3\" class=\"data row2 col3\" >2766.753516</td>\n",
       "            </tr>\n",
       "            <tr>\n",
       "                        <th id=\"T_37d0c_level0_row3\" class=\"row_heading level0 row3\" >10</th>\n",
       "                        <td id=\"T_37d0c_row3_col0\" class=\"data row3 col0\" >4</td>\n",
       "                        <td id=\"T_37d0c_row3_col1\" class=\"data row3 col1\" >0.775000</td>\n",
       "                        <td id=\"T_37d0c_row3_col2\" class=\"data row3 col2\" >2905.043346</td>\n",
       "                        <td id=\"T_37d0c_row3_col3\" class=\"data row3 col3\" >2777.785109</td>\n",
       "            </tr>\n",
       "            <tr>\n",
       "                        <th id=\"T_37d0c_level0_row4\" class=\"row_heading level0 row4\" >13</th>\n",
       "                        <td id=\"T_37d0c_row4_col0\" class=\"data row4 col0\" >4</td>\n",
       "                        <td id=\"T_37d0c_row4_col1\" class=\"data row4 col1\" >1.000000</td>\n",
       "                        <td id=\"T_37d0c_row4_col2\" class=\"data row4 col2\" >2914.506759</td>\n",
       "                        <td id=\"T_37d0c_row4_col3\" class=\"data row4 col3\" >2789.236053</td>\n",
       "            </tr>\n",
       "            <tr>\n",
       "                        <th id=\"T_37d0c_level0_row5\" class=\"row_heading level0 row5\" >0</th>\n",
       "                        <td id=\"T_37d0c_row5_col0\" class=\"data row5 col0\" >3</td>\n",
       "                        <td id=\"T_37d0c_row5_col1\" class=\"data row5 col1\" >0.100000</td>\n",
       "                        <td id=\"T_37d0c_row5_col2\" class=\"data row5 col2\" >2953.912760</td>\n",
       "                        <td id=\"T_37d0c_row5_col3\" class=\"data row5 col3\" >2813.973318</td>\n",
       "            </tr>\n",
       "            <tr>\n",
       "                        <th id=\"T_37d0c_level0_row6\" class=\"row_heading level0 row6\" >3</th>\n",
       "                        <td id=\"T_37d0c_row6_col0\" class=\"data row6 col0\" >3</td>\n",
       "                        <td id=\"T_37d0c_row6_col1\" class=\"data row6 col1\" >0.325000</td>\n",
       "                        <td id=\"T_37d0c_row6_col2\" class=\"data row6 col2\" >2960.262185</td>\n",
       "                        <td id=\"T_37d0c_row6_col3\" class=\"data row6 col3\" >2819.883404</td>\n",
       "            </tr>\n",
       "            <tr>\n",
       "                        <th id=\"T_37d0c_level0_row7\" class=\"row_heading level0 row7\" >2</th>\n",
       "                        <td id=\"T_37d0c_row7_col0\" class=\"data row7 col0\" >5</td>\n",
       "                        <td id=\"T_37d0c_row7_col1\" class=\"data row7 col1\" >0.100000</td>\n",
       "                        <td id=\"T_37d0c_row7_col2\" class=\"data row7 col2\" >2837.136998</td>\n",
       "                        <td id=\"T_37d0c_row7_col3\" class=\"data row7 col3\" >2825.789549</td>\n",
       "            </tr>\n",
       "            <tr>\n",
       "                        <th id=\"T_37d0c_level0_row8\" class=\"row_heading level0 row8\" >6</th>\n",
       "                        <td id=\"T_37d0c_row8_col0\" class=\"data row8 col0\" >3</td>\n",
       "                        <td id=\"T_37d0c_row8_col1\" class=\"data row8 col1\" >0.550000</td>\n",
       "                        <td id=\"T_37d0c_row8_col2\" class=\"data row8 col2\" >2968.126298</td>\n",
       "                        <td id=\"T_37d0c_row8_col3\" class=\"data row8 col3\" >2830.552205</td>\n",
       "            </tr>\n",
       "            <tr>\n",
       "                        <th id=\"T_37d0c_level0_row9\" class=\"row_heading level0 row9\" >5</th>\n",
       "                        <td id=\"T_37d0c_row9_col0\" class=\"data row9 col0\" >5</td>\n",
       "                        <td id=\"T_37d0c_row9_col1\" class=\"data row9 col1\" >0.325000</td>\n",
       "                        <td id=\"T_37d0c_row9_col2\" class=\"data row9 col2\" >2842.009045</td>\n",
       "                        <td id=\"T_37d0c_row9_col3\" class=\"data row9 col3\" >2835.639470</td>\n",
       "            </tr>\n",
       "            <tr>\n",
       "                        <th id=\"T_37d0c_level0_row10\" class=\"row_heading level0 row10\" >9</th>\n",
       "                        <td id=\"T_37d0c_row10_col0\" class=\"data row10 col0\" >3</td>\n",
       "                        <td id=\"T_37d0c_row10_col1\" class=\"data row10 col1\" >0.775000</td>\n",
       "                        <td id=\"T_37d0c_row10_col2\" class=\"data row10 col2\" >2976.147515</td>\n",
       "                        <td id=\"T_37d0c_row10_col3\" class=\"data row10 col3\" >2840.550602</td>\n",
       "            </tr>\n",
       "            <tr>\n",
       "                        <th id=\"T_37d0c_level0_row11\" class=\"row_heading level0 row11\" >8</th>\n",
       "                        <td id=\"T_37d0c_row11_col0\" class=\"data row11 col0\" >5</td>\n",
       "                        <td id=\"T_37d0c_row11_col1\" class=\"data row11 col1\" >0.550000</td>\n",
       "                        <td id=\"T_37d0c_row11_col2\" class=\"data row11 col2\" >2848.851345</td>\n",
       "                        <td id=\"T_37d0c_row11_col3\" class=\"data row11 col3\" >2847.321990</td>\n",
       "            </tr>\n",
       "            <tr>\n",
       "                        <th id=\"T_37d0c_level0_row12\" class=\"row_heading level0 row12\" >12</th>\n",
       "                        <td id=\"T_37d0c_row12_col0\" class=\"data row12 col0\" >3</td>\n",
       "                        <td id=\"T_37d0c_row12_col1\" class=\"data row12 col1\" >1.000000</td>\n",
       "                        <td id=\"T_37d0c_row12_col2\" class=\"data row12 col2\" >2985.641089</td>\n",
       "                        <td id=\"T_37d0c_row12_col3\" class=\"data row12 col3\" >2851.828226</td>\n",
       "            </tr>\n",
       "            <tr>\n",
       "                        <th id=\"T_37d0c_level0_row13\" class=\"row_heading level0 row13\" >11</th>\n",
       "                        <td id=\"T_37d0c_row13_col0\" class=\"data row13 col0\" >5</td>\n",
       "                        <td id=\"T_37d0c_row13_col1\" class=\"data row13 col1\" >0.775000</td>\n",
       "                        <td id=\"T_37d0c_row13_col2\" class=\"data row13 col2\" >2857.726421</td>\n",
       "                        <td id=\"T_37d0c_row13_col3\" class=\"data row13 col3\" >2859.660233</td>\n",
       "            </tr>\n",
       "            <tr>\n",
       "                        <th id=\"T_37d0c_level0_row14\" class=\"row_heading level0 row14\" >14</th>\n",
       "                        <td id=\"T_37d0c_row14_col0\" class=\"data row14 col0\" >5</td>\n",
       "                        <td id=\"T_37d0c_row14_col1\" class=\"data row14 col1\" >1.000000</td>\n",
       "                        <td id=\"T_37d0c_row14_col2\" class=\"data row14 col2\" >2867.026462</td>\n",
       "                        <td id=\"T_37d0c_row14_col3\" class=\"data row14 col3\" >2871.970595</td>\n",
       "            </tr>\n",
       "    </tbody></table>"
      ],
      "text/plain": [
       "<pandas.io.formats.style.Styler at 0x7fafac85c8e0>"
      ]
     },
     "execution_count": 14,
     "metadata": {},
     "output_type": "execute_result"
    }
   ],
   "source": [
    "res = pd.DataFrame(results)\n",
    "res.sort_values('test_score').style.bar(subset=['train_score', 'test_score'], vmin=0)"
   ]
  },
  {
   "cell_type": "markdown",
   "id": "ef13e7ec",
   "metadata": {},
   "source": [
    "<b>As it turns out, model works best with polynomial degree equal to 4. We'll save it for later usage.</b>"
   ]
  },
  {
   "cell_type": "code",
   "execution_count": 15,
   "id": "29442f47",
   "metadata": {},
   "outputs": [],
   "source": [
    "best_max_degree = res.loc[res.test_score==res.test_score.min(), 'max_degree'].item()"
   ]
  },
  {
   "cell_type": "markdown",
   "id": "8cba4152",
   "metadata": {},
   "source": [
    "Alternatively, run this cell to skip parameter grid search:"
   ]
  },
  {
   "cell_type": "code",
   "execution_count": null,
   "id": "ee15dd4b",
   "metadata": {},
   "outputs": [],
   "source": [
    "#best_max_degree = 4"
   ]
  },
  {
   "cell_type": "markdown",
   "id": "a66dd2c0",
   "metadata": {},
   "source": [
    "### Best alpha for Lasso Regressor"
   ]
  },
  {
   "cell_type": "markdown",
   "id": "c2ff76b2",
   "metadata": {},
   "source": [
    "<b>Here we'll try to find an even better alpha for Lasso regressor in the range around 0.1, where model showed best result.</b>"
   ]
  },
  {
   "cell_type": "code",
   "execution_count": 16,
   "id": "8f91c183",
   "metadata": {
    "scrolled": true
   },
   "outputs": [
    {
     "data": {
      "text/plain": [
       "{'alpha': [0.001, 0.005, 0.01, 0.05, 0.1, 0.15, 0.2]}"
      ]
     },
     "execution_count": 16,
     "metadata": {},
     "output_type": "execute_result"
    }
   ],
   "source": [
    "param_grid = dict(alpha=[0.001, 0.005, 0.01, 0.05, 0.1, 0.15, 0.2])\n",
    "param_grid"
   ]
  },
  {
   "cell_type": "markdown",
   "id": "ebfae4f4",
   "metadata": {},
   "source": [
    "Tuning in best max_degree for PolynomialFeatures from previous search:"
   ]
  },
  {
   "cell_type": "code",
   "execution_count": 17,
   "id": "another-rapid",
   "metadata": {},
   "outputs": [],
   "source": [
    "poly = ColumnTransformer([(\"poly\", PolynomialFeatures(degree=best_max_degree), slice(0, 5))], remainder='passthrough')"
   ]
  },
  {
   "cell_type": "code",
   "execution_count": 18,
   "id": "4589cf0e",
   "metadata": {},
   "outputs": [
    {
     "name": "stdout",
     "output_type": "stream",
     "text": [
      "{'alpha': 0.001}\n",
      "{'alpha': 0.005}\n",
      "{'alpha': 0.01}\n",
      "{'alpha': 0.05}\n",
      "{'alpha': 0.1}\n",
      "{'alpha': 0.15}\n",
      "{'alpha': 0.2}\n"
     ]
    }
   ],
   "source": [
    "results = []\n",
    "\n",
    "for params in ParameterGrid(param_grid):\n",
    "    print(params)\n",
    "    \n",
    "    pipe_reg = Pipeline(steps = [('tax_merger', Merger('tax', 'tax(£)')),\n",
    "                                 ('mapper', mapper),\n",
    "                                 ('poly', poly),\n",
    "                                 ('lassoreg', Lasso(alpha=params['alpha']))])\n",
    "    \n",
    "    pipe_reg.fit(X_train, y_train)\n",
    "   \n",
    "    results.append(dict(alpha=params['alpha'],\n",
    "                        train_score=mean_squared_error(y_train,\n",
    "                                                       pipe_reg.predict(X_train), \n",
    "                                                       squared=False),\n",
    "        \n",
    "                        test_score=mean_squared_error(y_test,\n",
    "                                                      pipe_reg.predict(X_test), \n",
    "                                                      squared=False)\n",
    "    ))"
   ]
  },
  {
   "cell_type": "code",
   "execution_count": 19,
   "id": "c74a0a6c",
   "metadata": {
    "scrolled": false
   },
   "outputs": [
    {
     "data": {
      "text/html": [
       "<style  type=\"text/css\" >\n",
       "#T_7a225_row0_col1,#T_7a225_row1_col1,#T_7a225_row2_col1,#T_7a225_row3_col2{\n",
       "            width:  10em;\n",
       "             height:  80%;\n",
       "            background:  linear-gradient(90deg,#d65f5f 99.7%, transparent 99.7%);\n",
       "        }#T_7a225_row0_col2{\n",
       "            width:  10em;\n",
       "             height:  80%;\n",
       "            background:  linear-gradient(90deg,#d65f5f 99.5%, transparent 99.5%);\n",
       "        }#T_7a225_row1_col2,#T_7a225_row2_col2{\n",
       "            width:  10em;\n",
       "             height:  80%;\n",
       "            background:  linear-gradient(90deg,#d65f5f 99.6%, transparent 99.6%);\n",
       "        }#T_7a225_row3_col1{\n",
       "            width:  10em;\n",
       "             height:  80%;\n",
       "            background:  linear-gradient(90deg,#d65f5f 99.8%, transparent 99.8%);\n",
       "        }#T_7a225_row4_col1,#T_7a225_row4_col2{\n",
       "            width:  10em;\n",
       "             height:  80%;\n",
       "            background:  linear-gradient(90deg,#d65f5f 99.9%, transparent 99.9%);\n",
       "        }#T_7a225_row5_col1,#T_7a225_row5_col2,#T_7a225_row6_col1,#T_7a225_row6_col2{\n",
       "            width:  10em;\n",
       "             height:  80%;\n",
       "            background:  linear-gradient(90deg,#d65f5f 100.0%, transparent 100.0%);\n",
       "        }</style><table id=\"T_7a225_\" ><thead>    <tr>        <th class=\"blank level0\" ></th>        <th class=\"col_heading level0 col0\" >alpha</th>        <th class=\"col_heading level0 col1\" >train_score</th>        <th class=\"col_heading level0 col2\" >test_score</th>    </tr></thead><tbody>\n",
       "                <tr>\n",
       "                        <th id=\"T_7a225_level0_row0\" class=\"row_heading level0 row0\" >0</th>\n",
       "                        <td id=\"T_7a225_row0_col0\" class=\"data row0 col0\" >0.001000</td>\n",
       "                        <td id=\"T_7a225_row0_col1\" class=\"data row0 col1\" >2878.032851</td>\n",
       "                        <td id=\"T_7a225_row0_col2\" class=\"data row0 col2\" >2740.530574</td>\n",
       "            </tr>\n",
       "            <tr>\n",
       "                        <th id=\"T_7a225_level0_row1\" class=\"row_heading level0 row1\" >1</th>\n",
       "                        <td id=\"T_7a225_row1_col0\" class=\"data row1 col0\" >0.005000</td>\n",
       "                        <td id=\"T_7a225_row1_col1\" class=\"data row1 col1\" >2878.201978</td>\n",
       "                        <td id=\"T_7a225_row1_col2\" class=\"data row1 col2\" >2740.942626</td>\n",
       "            </tr>\n",
       "            <tr>\n",
       "                        <th id=\"T_7a225_level0_row2\" class=\"row_heading level0 row2\" >2</th>\n",
       "                        <td id=\"T_7a225_row2_col0\" class=\"data row2 col0\" >0.010000</td>\n",
       "                        <td id=\"T_7a225_row2_col1\" class=\"data row2 col1\" >2878.435383</td>\n",
       "                        <td id=\"T_7a225_row2_col2\" class=\"data row2 col2\" >2741.496524</td>\n",
       "            </tr>\n",
       "            <tr>\n",
       "                        <th id=\"T_7a225_level0_row3\" class=\"row_heading level0 row3\" >3</th>\n",
       "                        <td id=\"T_7a225_row3_col0\" class=\"data row3 col0\" >0.050000</td>\n",
       "                        <td id=\"T_7a225_row3_col1\" class=\"data row3 col1\" >2881.022132</td>\n",
       "                        <td id=\"T_7a225_row3_col2\" class=\"data row3 col2\" >2746.033899</td>\n",
       "            </tr>\n",
       "            <tr>\n",
       "                        <th id=\"T_7a225_level0_row4\" class=\"row_heading level0 row4\" >4</th>\n",
       "                        <td id=\"T_7a225_row4_col0\" class=\"data row4 col0\" >0.100000</td>\n",
       "                        <td id=\"T_7a225_row4_col1\" class=\"data row4 col1\" >2884.334620</td>\n",
       "                        <td id=\"T_7a225_row4_col2\" class=\"data row4 col2\" >2750.862942</td>\n",
       "            </tr>\n",
       "            <tr>\n",
       "                        <th id=\"T_7a225_level0_row5\" class=\"row_heading level0 row5\" >5</th>\n",
       "                        <td id=\"T_7a225_row5_col0\" class=\"data row5 col0\" >0.150000</td>\n",
       "                        <td id=\"T_7a225_row5_col1\" class=\"data row5 col1\" >2885.608959</td>\n",
       "                        <td id=\"T_7a225_row5_col2\" class=\"data row5 col2\" >2751.755609</td>\n",
       "            </tr>\n",
       "            <tr>\n",
       "                        <th id=\"T_7a225_level0_row6\" class=\"row_heading level0 row6\" >6</th>\n",
       "                        <td id=\"T_7a225_row6_col0\" class=\"data row6 col0\" >0.200000</td>\n",
       "                        <td id=\"T_7a225_row6_col1\" class=\"data row6 col1\" >2886.925133</td>\n",
       "                        <td id=\"T_7a225_row6_col2\" class=\"data row6 col2\" >2753.111384</td>\n",
       "            </tr>\n",
       "    </tbody></table>"
      ],
      "text/plain": [
       "<pandas.io.formats.style.Styler at 0x7fafe6de2160>"
      ]
     },
     "execution_count": 19,
     "metadata": {},
     "output_type": "execute_result"
    }
   ],
   "source": [
    "res = pd.DataFrame(results)\n",
    "res.sort_values('test_score').style.bar(subset=['train_score', 'test_score'], vmin=0)"
   ]
  },
  {
   "cell_type": "markdown",
   "id": "b249aedf",
   "metadata": {},
   "source": [
    "<b>As it turns out, model works best with alpha for Lasso regressor equal to 0.001. We'll save it for later usage.</b>"
   ]
  },
  {
   "cell_type": "code",
   "execution_count": 20,
   "id": "a3cea314",
   "metadata": {},
   "outputs": [],
   "source": [
    "best_alpha = res.loc[res.test_score==res.test_score.min(), 'alpha'].item()"
   ]
  },
  {
   "cell_type": "markdown",
   "id": "3b1b9d5c",
   "metadata": {},
   "source": [
    "Alternatively, run this cell to skip parameter grid search:"
   ]
  },
  {
   "cell_type": "code",
   "execution_count": null,
   "id": "8c44010e",
   "metadata": {},
   "outputs": [],
   "source": [
    "#best_alpha = 0.001"
   ]
  },
  {
   "cell_type": "markdown",
   "id": "varying-satin",
   "metadata": {},
   "source": [
    "## Fitting the Model Pipeline"
   ]
  },
  {
   "cell_type": "code",
   "execution_count": 21,
   "id": "5169ff59",
   "metadata": {
    "scrolled": true
   },
   "outputs": [
    {
     "data": {
      "text/plain": [
       "Pipeline(steps=[('tax_merger', Merger(col_add='tax(£)', col_main='tax')),\n",
       "                ('mapper',\n",
       "                 DataFrameMapper(df_out=True, drop_cols=[],\n",
       "                                 features=[(['year'],\n",
       "                                            SimpleImputer(strategy='median')),\n",
       "                                           (['mileage'],\n",
       "                                            SimpleImputer(strategy='median')),\n",
       "                                           (['tax'],\n",
       "                                            SimpleImputer(strategy='median')),\n",
       "                                           (['mpg'],\n",
       "                                            SimpleImputer(strategy='median')),\n",
       "                                           (['engineSize'],\n",
       "                                            SimpleImputer(strategy='m...\n",
       "                                                          sparse=False)),\n",
       "                                           (['transmission'],\n",
       "                                            OneHotEncoder(drop='first',\n",
       "                                                          sparse=False)),\n",
       "                                           (['brand'],\n",
       "                                            OneHotEncoder(handle_unknown='ignore',\n",
       "                                                          sparse=False)),\n",
       "                                           (['model'],\n",
       "                                            OneHotEncoder(handle_unknown='ignore',\n",
       "                                                          sparse=False))])),\n",
       "                ('poly',\n",
       "                 ColumnTransformer(remainder='passthrough',\n",
       "                                   transformers=[('poly',\n",
       "                                                  PolynomialFeatures(degree=4),\n",
       "                                                  slice(0, 5, None))])),\n",
       "                ('lassoreg', Lasso(alpha=0.001))])"
      ]
     },
     "execution_count": 21,
     "metadata": {},
     "output_type": "execute_result"
    }
   ],
   "source": [
    "pipeline_regularized = Pipeline(steps = [('tax_merger', Merger('tax', 'tax(£)')),\n",
    "                                         ('mapper', mapper), \n",
    "                                         ('poly', poly),\n",
    "                                         ('lassoreg', Lasso(alpha=best_alpha))])\n",
    "\n",
    "pipeline_regularized.fit(X, y)"
   ]
  },
  {
   "cell_type": "markdown",
   "id": "imported-comfort",
   "metadata": {},
   "source": [
    "## Predicting for Test Sample and Converting Predictions to CSV"
   ]
  },
  {
   "cell_type": "code",
   "execution_count": 22,
   "id": "21dccc80",
   "metadata": {},
   "outputs": [],
   "source": [
    "test = pd.read_csv('cars_test.csv')"
   ]
  },
  {
   "cell_type": "code",
   "execution_count": 23,
   "id": "aec609e1",
   "metadata": {},
   "outputs": [],
   "source": [
    "pred = test.id.to_frame()\n",
    "pred['price'] = pipeline_regularized.predict(test)\n",
    "pred.set_index('id', inplace = True)"
   ]
  },
  {
   "cell_type": "code",
   "execution_count": 24,
   "id": "3c3f8b81",
   "metadata": {},
   "outputs": [],
   "source": [
    "pred.to_csv('try_poly4_lasso.csv')"
   ]
  }
 ],
 "metadata": {
  "kernelspec": {
   "display_name": "Python 3",
   "language": "python",
   "name": "python3"
  },
  "language_info": {
   "codemirror_mode": {
    "name": "ipython",
    "version": 3
   },
   "file_extension": ".py",
   "mimetype": "text/x-python",
   "name": "python",
   "nbconvert_exporter": "python",
   "pygments_lexer": "ipython3",
   "version": "3.8.8"
  }
 },
 "nbformat": 4,
 "nbformat_minor": 5
}
